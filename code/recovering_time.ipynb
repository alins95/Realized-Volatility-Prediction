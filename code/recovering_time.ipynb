{
 "cells": [
  {
   "cell_type": "markdown",
   "id": "c9ef361e-8f74-4eee-bc12-51e8d4d07bc1",
   "metadata": {},
   "source": [
    "# Recovering Time Structure\n",
    "\n",
    "This notebook aims to recover the temporal structure in the data so it can be incorporated into model training, ensuring that our models do not inadvertently access future information. We apply the Isomap algorithm, which constructs a k-nearest neighbors (KNN) graph using Euclidean distances, computes shortest path distances on the graph (approximating geodesics), and then applies classical multidimensional scaling (MDS) to those distances.\n"
   ]
  },
  {
   "cell_type": "code",
   "execution_count": 1,
   "id": "ee02e36f-9086-4671-8e7c-6640a92d2d9d",
   "metadata": {},
   "outputs": [],
   "source": [
    "# libraries and settings\n",
    "import pandas as pd\n",
    "from sklearn.manifold import Isomap\n",
    "from sklearn.preprocessing import StandardScaler\n",
    "import warnings\n",
    "warnings.filterwarnings('ignore')"
   ]
  },
  {
   "cell_type": "code",
   "execution_count": 2,
   "id": "975e6aeb-7057-4fa2-8966-b00ab0103664",
   "metadata": {},
   "outputs": [],
   "source": [
    "# reading the training data \n",
    "df_train = pd.read_csv('../data/df_train.csv')\n",
    "train = pd.read_csv('../data/train.csv')\n",
    "\n",
    "df_train['target'] = train['target']\n",
    "\n",
    "df_train.dropna(inplace=True)"
   ]
  },
  {
   "cell_type": "code",
   "execution_count": 3,
   "id": "8193d009-2b7f-4f38-b0af-1d7247e37fc3",
   "metadata": {},
   "outputs": [],
   "source": [
    "# recovering the time structure (to be used later for training the models)\n",
    "\n",
    "df_train['stock_id'] = df_train['row_id'].apply(lambda x: int(x.split('-')[0])).astype('category')\n",
    "\n",
    "df_train['time_id'] = df_train['row_id'].apply(lambda x: int(x.split('-')[1]))\n",
    "df_train['n'] = df_train.groupby('time_id')['time_id'].transform('count')\n",
    "\n",
    "\n",
    "###### finding a balanced panel of stocks #########\n",
    "all_stocks = df_train['stock_id'].unique()\n",
    "all_times = df_train['time_id'].unique()\n",
    "\n",
    "# create the full cartesian product (all combinations)\n",
    "full_df = pd.DataFrame( \n",
    "    index =\n",
    "        pd.MultiIndex.from_product(\n",
    "            [all_times, all_stocks], names=['time_id', 'stock_id']\n",
    "        )\n",
    "    ).reset_index()\n",
    "\n",
    "# find the missing combinations of stock id and time id\n",
    "df_existing = df_train[['time_id', 'stock_id']].drop_duplicates()\n",
    "\n",
    "missing_pairs = pd.merge(\n",
    "    full_df,\n",
    "    df_existing,\n",
    "    on = ['time_id', 'stock_id'],\n",
    "    how = 'left',\n",
    "    indicator = True\n",
    "    ).query('_merge == \"left_only\"').drop(columns='_merge')\n",
    "\n",
    "\n",
    "df_existing = df_existing[~ df_existing['stock_id'].isin(missing_pairs['stock_id'].unique())]\n",
    "\n",
    "# check if now all the time id's have the data for all the remaining stocks\n",
    "df_existing['n'] = df_existing.groupby('time_id')['time_id'].transform('count')\n",
    "df_existing['n'].describe()\n",
    "df_train.drop(columns = ['n' ], inplace = True )\n",
    "\n",
    "cols_to_keep = [col for col in df_train.columns if 'trade' in col]\n",
    "cols_to_keep.extend(['time_id', 'stock_id'])\n",
    "\n",
    "# selecting features to be used for recovering the time structure\n",
    "time_features = df_train[cols_to_keep][\n",
    "    ~ df_train['stock_id'].isin(missing_pairs['stock_id'].unique())\n",
    "    ].groupby('time_id').mean(numeric_only=True).reset_index()\n",
    "\n",
    "\n",
    "time_ids = time_features['time_id'].values\n",
    "X = time_features.drop(columns='time_id').values \n",
    "X = StandardScaler().fit_transform(X)\n",
    "\n",
    "# fit Isomap to get 1D embedding\n",
    "iso = Isomap(n_neighbors=10, n_components=1)\n",
    "Z = iso.fit_transform(X)\n",
    "\n",
    "\n",
    "time_ordered_df = pd.DataFrame({\n",
    "    'time_id': time_ids,\n",
    "    'isomap_order_value': Z[:, 0]\n",
    "})\n",
    "time_ordered_df['time_id_ordered'] = time_ordered_df['isomap_order_value'].rank(method='first').astype(int)\n",
    "\n",
    "time_ordered_df.drop(columns = ['isomap_order_value']).to_csv('../data/time_order.csv', index = False)\n",
    "\n"
   ]
  }
 ],
 "metadata": {
  "kernelspec": {
   "display_name": "Python (env310learning)",
   "language": "python",
   "name": "env310learning"
  },
  "language_info": {
   "codemirror_mode": {
    "name": "ipython",
    "version": 3
   },
   "file_extension": ".py",
   "mimetype": "text/x-python",
   "name": "python",
   "nbconvert_exporter": "python",
   "pygments_lexer": "ipython3",
   "version": "3.10.16"
  }
 },
 "nbformat": 4,
 "nbformat_minor": 5
}
