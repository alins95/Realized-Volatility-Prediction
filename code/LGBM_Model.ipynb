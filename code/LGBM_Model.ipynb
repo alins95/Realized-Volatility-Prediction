{
 "cells": [
  {
   "cell_type": "markdown",
   "id": "8831f493-681b-4240-ba91-4a515a866780",
   "metadata": {},
   "source": [
    "# LightGBM Prediction Model"
   ]
  },
  {
   "cell_type": "markdown",
   "id": "2ad48fbe-b7dc-4437-8e0d-a8e4fd899b9a",
   "metadata": {},
   "source": [
    "In this notebook, we train a LightGBM model for predicting the realized volatility. We will use the features generated in the feature_eng_notebook to train the model."
   ]
  },
  {
   "cell_type": "code",
   "execution_count": 1,
   "id": "92f81d1d-1037-4556-a285-c1c72a13b863",
   "metadata": {},
   "outputs": [],
   "source": [
    "# libraries and settings\n",
    "import pandas as pd\n",
    "import numpy as np\n",
    "import lightgbm as lgb\n",
    "import optuna\n",
    "import warnings\n",
    "warnings.filterwarnings('ignore')"
   ]
  },
  {
   "cell_type": "code",
   "execution_count": 2,
   "id": "8169cff2-4a60-4158-917b-40897f210c96",
   "metadata": {},
   "outputs": [],
   "source": [
    "# reading the training data \n",
    "df_train = pd.read_csv('../data/df_train.csv')\n",
    "train = pd.read_csv('../data/train.csv')\n",
    "time_order_df = pd.read_csv('../data/time_order.csv')\n",
    "\n",
    "df_train['target'] = train['target']\n",
    "df_train.dropna(inplace=True)\n",
    "\n",
    "df_train['stock_id'] = df_train['row_id'].apply(lambda x: int(x.split('-')[0])).astype('category')\n",
    "df_train['time_id'] = df_train['row_id'].apply(lambda x: int(x.split('-')[1]))\n",
    "df_train = pd.merge(df_train, time_order_df, on = 'time_id')\n",
    "df_train.sort_values('time_id_ordered', inplace = True)"
   ]
  },
  {
   "cell_type": "markdown",
   "id": "e1b5c724-3b92-4cb2-a34e-bfbd987628df",
   "metadata": {},
   "source": [
    "## Training and Fine-Tuning the LGBM model"
   ]
  },
  {
   "cell_type": "code",
   "execution_count": 3,
   "id": "56eb1755-2859-4bf0-abd6-7bd98ccbae3f",
   "metadata": {},
   "outputs": [
    {
     "name": "stderr",
     "output_type": "stream",
     "text": [
      "[I 2025-08-12 19:34:14,024] A new study created in memory with name: no-name-a93f5c17-38ab-4432-813f-9bb55699d5e3\n",
      "[I 2025-08-12 19:34:31,002] Trial 0 finished with value: 0.25632836334893205 and parameters: {'learning_rate': 0.01743776849492105, 'num_leaves': 32, 'max_depth': 4, 'min_data_in_leaf': 47, 'feature_fraction': 0.7337152178219352, 'bagging_fraction': 0.6576178480880025, 'bagging_freq': 10, 'lambda_l1': 2.0556658714205134, 'lambda_l2': 1.4233039209478338, 'num_boost_round': 653}. Best is trial 0 with value: 0.25632836334893205.\n",
      "[I 2025-08-12 19:34:48,874] Trial 1 finished with value: 0.251305013115712 and parameters: {'learning_rate': 0.0935184996422937, 'num_leaves': 53, 'max_depth': 3, 'min_data_in_leaf': 47, 'feature_fraction': 0.9785295436573411, 'bagging_fraction': 0.6922022192648933, 'bagging_freq': 6, 'lambda_l1': 1.812135464305611, 'lambda_l2': 1.6373945791212818, 'num_boost_round': 957}. Best is trial 1 with value: 0.251305013115712.\n",
      "[I 2025-08-12 19:35:05,978] Trial 2 finished with value: 0.24924263941287994 and parameters: {'learning_rate': 0.06279014722230139, 'num_leaves': 77, 'max_depth': 4, 'min_data_in_leaf': 86, 'feature_fraction': 0.633391961893064, 'bagging_fraction': 0.518137902046369, 'bagging_freq': 10, 'lambda_l1': 2.0005953713578837, 'lambda_l2': 1.647670645978998, 'num_boost_round': 729}. Best is trial 2 with value: 0.24924263941287994.\n",
      "[I 2025-08-12 19:35:52,695] Trial 3 finished with value: 0.24625728354571913 and parameters: {'learning_rate': 0.0350382684332357, 'num_leaves': 85, 'max_depth': 6, 'min_data_in_leaf': 99, 'feature_fraction': 0.7165093141854435, 'bagging_fraction': 0.7844720491247088, 'bagging_freq': 7, 'lambda_l1': 0.06824951367069565, 'lambda_l2': 1.994988662057513, 'num_boost_round': 657}. Best is trial 3 with value: 0.24625728354571913.\n",
      "[I 2025-08-12 19:36:26,666] Trial 4 finished with value: 0.24581628056146482 and parameters: {'learning_rate': 0.08640900821589571, 'num_leaves': 18, 'max_depth': 7, 'min_data_in_leaf': 60, 'feature_fraction': 0.622280398744958, 'bagging_fraction': 0.7355997435194436, 'bagging_freq': 7, 'lambda_l1': 4.171184111220105, 'lambda_l2': 2.685836987025066, 'num_boost_round': 885}. Best is trial 4 with value: 0.24581628056146482.\n",
      "[I 2025-08-12 19:36:59,367] Trial 5 finished with value: 0.25013434067889634 and parameters: {'learning_rate': 0.02243079847903042, 'num_leaves': 28, 'max_depth': 6, 'min_data_in_leaf': 90, 'feature_fraction': 0.8257982160721772, 'bagging_fraction': 0.6155278361394855, 'bagging_freq': 8, 'lambda_l1': 2.9228765503661647, 'lambda_l2': 2.667868201252122, 'num_boost_round': 789}. Best is trial 4 with value: 0.24581628056146482.\n",
      "[I 2025-08-12 19:37:49,288] Trial 6 finished with value: 0.2543683228636007 and parameters: {'learning_rate': 0.00683215402593406, 'num_leaves': 80, 'max_depth': 7, 'min_data_in_leaf': 47, 'feature_fraction': 0.9676998134234109, 'bagging_fraction': 0.6330010299977413, 'bagging_freq': 5, 'lambda_l1': 3.007407343360436, 'lambda_l2': 2.2362494297868887, 'num_boost_round': 770}. Best is trial 4 with value: 0.24581628056146482.\n",
      "[I 2025-08-12 19:38:18,690] Trial 7 finished with value: 0.2467030639719586 and parameters: {'learning_rate': 0.03282070931689898, 'num_leaves': 65, 'max_depth': 5, 'min_data_in_leaf': 21, 'feature_fraction': 0.7531960747327597, 'bagging_fraction': 0.597974329658348, 'bagging_freq': 3, 'lambda_l1': 0.5018971381993947, 'lambda_l2': 2.1659467089936966, 'num_boost_round': 766}. Best is trial 4 with value: 0.24581628056146482.\n",
      "[I 2025-08-12 19:38:48,228] Trial 8 finished with value: 0.2607784404213753 and parameters: {'learning_rate': 0.009068682584709324, 'num_leaves': 49, 'max_depth': 4, 'min_data_in_leaf': 48, 'feature_fraction': 0.7323231162895547, 'bagging_fraction': 0.768239281844479, 'bagging_freq': 6, 'lambda_l1': 2.63647795090936, 'lambda_l2': 0.0009008659841458488, 'num_boost_round': 784}. Best is trial 4 with value: 0.24581628056146482.\n",
      "[I 2025-08-12 19:39:12,027] Trial 9 finished with value: 0.25003290116093313 and parameters: {'learning_rate': 0.03916385736335292, 'num_leaves': 90, 'max_depth': 4, 'min_data_in_leaf': 34, 'feature_fraction': 0.6575586844035107, 'bagging_fraction': 0.6699078852550158, 'bagging_freq': 8, 'lambda_l1': 0.9884439980061377, 'lambda_l2': 0.6110057254571494, 'num_boost_round': 735}. Best is trial 4 with value: 0.24581628056146482.\n",
      "[I 2025-08-12 19:39:46,453] Trial 10 finished with value: 0.24199789087308152 and parameters: {'learning_rate': 0.09696362405702266, 'num_leaves': 127, 'max_depth': 7, 'min_data_in_leaf': 71, 'feature_fraction': 0.8717326277144214, 'bagging_fraction': 0.730066481652277, 'bagging_freq': 1, 'lambda_l1': 4.706910665696968, 'lambda_l2': 4.348512804982054, 'num_boost_round': 923}. Best is trial 10 with value: 0.24199789087308152.\n",
      "[I 2025-08-12 19:40:28,321] Trial 11 finished with value: 0.2411788021875419 and parameters: {'learning_rate': 0.09882549541013742, 'num_leaves': 128, 'max_depth': 7, 'min_data_in_leaf': 71, 'feature_fraction': 0.8613859866191707, 'bagging_fraction': 0.7251171665501935, 'bagging_freq': 1, 'lambda_l1': 4.783570314133663, 'lambda_l2': 4.2863889067565415, 'num_boost_round': 916}. Best is trial 11 with value: 0.2411788021875419.\n",
      "[I 2025-08-12 19:41:17,404] Trial 12 finished with value: 0.24156636922645897 and parameters: {'learning_rate': 0.0576376487311939, 'num_leaves': 128, 'max_depth': 7, 'min_data_in_leaf': 71, 'feature_fraction': 0.8775803490568992, 'bagging_fraction': 0.7204505805235409, 'bagging_freq': 1, 'lambda_l1': 4.852282530353246, 'lambda_l2': 4.52864885001712, 'num_boost_round': 892}. Best is trial 11 with value: 0.2411788021875419.\n",
      "[I 2025-08-12 19:41:59,063] Trial 13 finished with value: 0.24437609770005772 and parameters: {'learning_rate': 0.05153713762007103, 'num_leaves': 126, 'max_depth': 6, 'min_data_in_leaf': 71, 'feature_fraction': 0.8799298604994604, 'bagging_fraction': 0.709328367345662, 'bagging_freq': 1, 'lambda_l1': 4.190458411510197, 'lambda_l2': 4.958707986442576, 'num_boost_round': 863}. Best is trial 11 with value: 0.2411788021875419.\n",
      "[I 2025-08-12 19:42:50,534] Trial 14 finished with value: 0.2417627850458122 and parameters: {'learning_rate': 0.05067737091830586, 'num_leaves': 106, 'max_depth': 7, 'min_data_in_leaf': 73, 'feature_fraction': 0.9052342295191409, 'bagging_fraction': 0.7537526044658295, 'bagging_freq': 3, 'lambda_l1': 4.974058605982134, 'lambda_l2': 3.7229520067504014, 'num_boost_round': 855}. Best is trial 11 with value: 0.2411788021875419.\n",
      "[I 2025-08-12 19:43:33,889] Trial 15 finished with value: 0.24199294249412057 and parameters: {'learning_rate': 0.06633453279522297, 'num_leaves': 110, 'max_depth': 6, 'min_data_in_leaf': 61, 'feature_fraction': 0.8115144338413465, 'bagging_fraction': 0.7955026633937226, 'bagging_freq': 3, 'lambda_l1': 3.9910235238717617, 'lambda_l2': 3.660389322185373, 'num_boost_round': 968}. Best is trial 11 with value: 0.2411788021875419.\n",
      "[I 2025-08-12 19:44:08,764] Trial 16 finished with value: 0.24961692504189287 and parameters: {'learning_rate': 0.02096468999500396, 'num_leaves': 108, 'max_depth': 5, 'min_data_in_leaf': 81, 'feature_fraction': 0.9270438121613153, 'bagging_fraction': 0.5579445467608655, 'bagging_freq': 2, 'lambda_l1': 3.575468013108684, 'lambda_l2': 3.4033202702602736, 'num_boost_round': 916}. Best is trial 11 with value: 0.2411788021875419.\n",
      "[I 2025-08-12 19:45:06,050] Trial 17 finished with value: 0.24611494704787049 and parameters: {'learning_rate': 0.013536926583046408, 'num_leaves': 117, 'max_depth': 7, 'min_data_in_leaf': 65, 'feature_fraction': 0.8402729477414596, 'bagging_fraction': 0.6964656780574647, 'bagging_freq': 2, 'lambda_l1': 4.6377622733925525, 'lambda_l2': 4.541800815462748, 'num_boost_round': 992}. Best is trial 11 with value: 0.2411788021875419.\n",
      "[I 2025-08-12 19:45:46,797] Trial 18 finished with value: 0.24127631623265586 and parameters: {'learning_rate': 0.06926902677465459, 'num_leaves': 94, 'max_depth': 6, 'min_data_in_leaf': 11, 'feature_fraction': 0.9287635528323919, 'bagging_fraction': 0.7153459042875107, 'bagging_freq': 4, 'lambda_l1': 3.501796727772588, 'lambda_l2': 4.228927260909959, 'num_boost_round': 843}. Best is trial 11 with value: 0.2411788021875419.\n",
      "[I 2025-08-12 19:46:27,657] Trial 19 finished with value: 0.2411976256448888 and parameters: {'learning_rate': 0.07532977119076671, 'num_leaves': 100, 'max_depth': 6, 'min_data_in_leaf': 11, 'feature_fraction': 0.9411173448909547, 'bagging_fraction': 0.6808715611826828, 'bagging_freq': 4, 'lambda_l1': 3.4443495668701916, 'lambda_l2': 3.2679899855080783, 'num_boost_round': 839}. Best is trial 11 with value: 0.2411788021875419.\n",
      "[I 2025-08-12 19:47:01,080] Trial 20 finished with value: 0.24872095052703233 and parameters: {'learning_rate': 0.02655358984443166, 'num_leaves': 98, 'max_depth': 5, 'min_data_in_leaf': 29, 'feature_fraction': 0.9979362653989001, 'bagging_fraction': 0.5832733762626279, 'bagging_freq': 4, 'lambda_l1': 3.5320205274752974, 'lambda_l2': 3.174602122192411, 'num_boost_round': 829}. Best is trial 11 with value: 0.2411788021875419.\n",
      "[I 2025-08-12 19:47:39,372] Trial 21 finished with value: 0.24221656555585375 and parameters: {'learning_rate': 0.07391647646573672, 'num_leaves': 94, 'max_depth': 6, 'min_data_in_leaf': 16, 'feature_fraction': 0.9332960836326349, 'bagging_fraction': 0.6751119898659197, 'bagging_freq': 4, 'lambda_l1': 3.5349114697178687, 'lambda_l2': 4.034453412501098, 'num_boost_round': 832}. Best is trial 11 with value: 0.2411788021875419.\n",
      "[I 2025-08-12 19:48:23,186] Trial 22 finished with value: 0.24249500627477164 and parameters: {'learning_rate': 0.043973720104098904, 'num_leaves': 68, 'max_depth': 6, 'min_data_in_leaf': 11, 'feature_fraction': 0.9405890567419376, 'bagging_fraction': 0.7540782919458224, 'bagging_freq': 5, 'lambda_l1': 3.18295534864434, 'lambda_l2': 2.9908373826619354, 'num_boost_round': 833}. Best is trial 11 with value: 0.2411788021875419.\n",
      "[I 2025-08-12 19:48:55,717] Trial 23 finished with value: 0.24439664325798247 and parameters: {'learning_rate': 0.07242519433067382, 'num_leaves': 100, 'max_depth': 5, 'min_data_in_leaf': 30, 'feature_fraction': 0.9018949497609312, 'bagging_fraction': 0.6354252639169866, 'bagging_freq': 4, 'lambda_l1': 3.9529379780001976, 'lambda_l2': 4.055354051300865, 'num_boost_round': 925}. Best is trial 11 with value: 0.2411788021875419.\n",
      "[I 2025-08-12 19:49:28,193] Trial 24 finished with value: 0.24158344188088057 and parameters: {'learning_rate': 0.07716761034163895, 'num_leaves': 114, 'max_depth': 6, 'min_data_in_leaf': 20, 'feature_fraction': 0.7859432223241389, 'bagging_fraction': 0.6860968469393774, 'bagging_freq': 2, 'lambda_l1': 2.5561190173894257, 'lambda_l2': 3.8948040958108656, 'num_boost_round': 887}. Best is trial 11 with value: 0.2411788021875419.\n",
      "[I 2025-08-12 19:50:00,896] Trial 25 finished with value: 0.2442196079160262 and parameters: {'learning_rate': 0.046082719545116245, 'num_leaves': 117, 'max_depth': 7, 'min_data_in_leaf': 36, 'feature_fraction': 0.8430809780387898, 'bagging_fraction': 0.7125465948026497, 'bagging_freq': 5, 'lambda_l1': 4.442159678637594, 'lambda_l2': 4.960190887520621, 'num_boost_round': 612}. Best is trial 11 with value: 0.2411788021875419.\n",
      "[I 2025-08-12 19:50:33,581] Trial 26 finished with value: 0.24274347156036472 and parameters: {'learning_rate': 0.09244976826429457, 'num_leaves': 100, 'max_depth': 6, 'min_data_in_leaf': 14, 'feature_fraction': 0.9626330663764666, 'bagging_fraction': 0.6499761576165127, 'bagging_freq': 3, 'lambda_l1': 3.3525914119418965, 'lambda_l2': 3.1525296934985114, 'num_boost_round': 827}. Best is trial 11 with value: 0.2411788021875419.\n",
      "[I 2025-08-12 19:51:06,254] Trial 27 finished with value: 0.24462382506849978 and parameters: {'learning_rate': 0.05800451242549962, 'num_leaves': 87, 'max_depth': 5, 'min_data_in_leaf': 25, 'feature_fraction': 0.9095649244011886, 'bagging_fraction': 0.7467856820563459, 'bagging_freq': 4, 'lambda_l1': 3.750253379497857, 'lambda_l2': 4.3358022809992685, 'num_boost_round': 937}. Best is trial 11 with value: 0.2411788021875419.\n",
      "[I 2025-08-12 19:51:43,947] Trial 28 finished with value: 0.24387544785843485 and parameters: {'learning_rate': 0.03112291180861281, 'num_leaves': 62, 'max_depth': 6, 'min_data_in_leaf': 40, 'feature_fraction': 0.7842765043477213, 'bagging_fraction': 0.7745231176666215, 'bagging_freq': 2, 'lambda_l1': 1.3705707633393978, 'lambda_l2': 3.5651750517481293, 'num_boost_round': 867}. Best is trial 11 with value: 0.2411788021875419.\n",
      "[I 2025-08-12 19:52:07,794] Trial 29 finished with value: 0.264737392995498 and parameters: {'learning_rate': 0.013485463996574989, 'num_leaves': 79, 'max_depth': 3, 'min_data_in_leaf': 40, 'feature_fraction': 0.9529789783460996, 'bagging_fraction': 0.6540673215230097, 'bagging_freq': 10, 'lambda_l1': 2.3069073382056478, 'lambda_l2': 4.172985237889928, 'num_boost_round': 709}. Best is trial 11 with value: 0.2411788021875419.\n",
      "[I 2025-08-12 19:52:58,488] Trial 30 finished with value: 0.24078484560419497 and parameters: {'learning_rate': 0.07329765917513277, 'num_leaves': 121, 'max_depth': 7, 'min_data_in_leaf': 54, 'feature_fraction': 0.8540704998827005, 'bagging_fraction': 0.7059021832520905, 'bagging_freq': 6, 'lambda_l1': 4.487467286984669, 'lambda_l2': 4.625446812606549, 'num_boost_round': 999}. Best is trial 30 with value: 0.24078484560419497.\n",
      "[I 2025-08-12 19:53:31,764] Trial 31 finished with value: 0.24268123783142612 and parameters: {'learning_rate': 0.07880442665646323, 'num_leaves': 122, 'max_depth': 7, 'min_data_in_leaf': 57, 'feature_fraction': 0.8599171257496019, 'bagging_fraction': 0.7064697944477923, 'bagging_freq': 6, 'lambda_l1': 4.4329506052994425, 'lambda_l2': 4.5537238308096635, 'num_boost_round': 999}. Best is trial 30 with value: 0.24078484560419497.\n",
      "[I 2025-08-12 19:54:02,337] Trial 32 finished with value: 0.24107664341640755 and parameters: {'learning_rate': 0.0991212632450986, 'num_leaves': 104, 'max_depth': 7, 'min_data_in_leaf': 10, 'feature_fraction': 0.8964867846538835, 'bagging_fraction': 0.6835337772079725, 'bagging_freq': 7, 'lambda_l1': 4.299939912705116, 'lambda_l2': 4.809686095585362, 'num_boost_round': 959}. Best is trial 30 with value: 0.24078484560419497.\n",
      "[I 2025-08-12 19:54:34,194] Trial 33 finished with value: 0.24173130023197953 and parameters: {'learning_rate': 0.09989552332788758, 'num_leaves': 119, 'max_depth': 7, 'min_data_in_leaf': 53, 'feature_fraction': 0.8922631076756072, 'bagging_fraction': 0.6888162052482237, 'bagging_freq': 7, 'lambda_l1': 4.375421416001718, 'lambda_l2': 4.729041861169532, 'num_boost_round': 956}. Best is trial 30 with value: 0.24078484560419497.\n",
      "[I 2025-08-12 19:55:06,253] Trial 34 finished with value: 0.24349295540960744 and parameters: {'learning_rate': 0.060565313573755476, 'num_leaves': 106, 'max_depth': 7, 'min_data_in_leaf': 81, 'feature_fraction': 0.8623649190412193, 'bagging_fraction': 0.6694896285738531, 'bagging_freq': 8, 'lambda_l1': 3.8751079463186224, 'lambda_l2': 4.7562131059471575, 'num_boost_round': 969}. Best is trial 30 with value: 0.24078484560419497.\n",
      "[I 2025-08-12 19:55:29,343] Trial 35 finished with value: 0.24177210554897965 and parameters: {'learning_rate': 0.08369270106414825, 'num_leaves': 111, 'max_depth': 7, 'min_data_in_leaf': 20, 'feature_fraction': 0.8452893615590217, 'bagging_fraction': 0.7346676895459816, 'bagging_freq': 9, 'lambda_l1': 4.62306117836083, 'lambda_l2': 3.8445281908060394, 'num_boost_round': 950}. Best is trial 30 with value: 0.24078484560419497.\n",
      "[I 2025-08-12 19:55:51,375] Trial 36 finished with value: 0.24445666440002545 and parameters: {'learning_rate': 0.08832033303383367, 'num_leaves': 102, 'max_depth': 7, 'min_data_in_leaf': 97, 'feature_fraction': 0.9975911617020581, 'bagging_fraction': 0.5196649099990064, 'bagging_freq': 6, 'lambda_l1': 4.221629063410921, 'lambda_l2': 1.399760900867443, 'num_boost_round': 978}. Best is trial 30 with value: 0.24078484560419497.\n",
      "[I 2025-08-12 19:56:39,822] Trial 37 finished with value: 0.255311306400373 and parameters: {'learning_rate': 0.005168846983787849, 'num_leaves': 120, 'max_depth': 7, 'min_data_in_leaf': 77, 'feature_fraction': 0.8096430502931465, 'bagging_fraction': 0.6386705750349658, 'bagging_freq': 7, 'lambda_l1': 4.973500982123929, 'lambda_l2': 2.851914208089073, 'num_boost_round': 902}. Best is trial 30 with value: 0.24078484560419497.\n",
      "[I 2025-08-12 19:57:14,555] Trial 38 finished with value: 0.2445698747126056 and parameters: {'learning_rate': 0.04228240112349944, 'num_leaves': 113, 'max_depth': 6, 'min_data_in_leaf': 92, 'feature_fraction': 0.9176922614191735, 'bagging_fraction': 0.6928052200126669, 'bagging_freq': 9, 'lambda_l1': 2.838793327894036, 'lambda_l2': 3.445704925013655, 'num_boost_round': 939}. Best is trial 30 with value: 0.24078484560419497.\n",
      "[I 2025-08-12 19:57:51,731] Trial 39 finished with value: 0.24354344055876484 and parameters: {'learning_rate': 0.05244228592599384, 'num_leaves': 52, 'max_depth': 7, 'min_data_in_leaf': 65, 'feature_fraction': 0.6943149322492209, 'bagging_fraction': 0.673239853815257, 'bagging_freq': 6, 'lambda_l1': 4.057816590946283, 'lambda_l2': 4.979085836829085, 'num_boost_round': 985}. Best is trial 30 with value: 0.24078484560419497.\n",
      "[I 2025-08-12 19:58:21,254] Trial 40 finished with value: 0.24253298463607142 and parameters: {'learning_rate': 0.06386513648032094, 'num_leaves': 123, 'max_depth': 7, 'min_data_in_leaf': 51, 'feature_fraction': 0.7710134410707252, 'bagging_fraction': 0.6162378836465116, 'bagging_freq': 7, 'lambda_l1': 3.1831780579769995, 'lambda_l2': 2.358631086161404, 'num_boost_round': 802}. Best is trial 30 with value: 0.24078484560419497.\n",
      "[I 2025-08-12 19:58:57,323] Trial 41 finished with value: 0.24040207632022642 and parameters: {'learning_rate': 0.07038856993313715, 'num_leaves': 92, 'max_depth': 6, 'min_data_in_leaf': 10, 'feature_fraction': 0.9468939850595881, 'bagging_fraction': 0.7264861320377024, 'bagging_freq': 5, 'lambda_l1': 3.7088727537441355, 'lambda_l2': 4.319751531615818, 'num_boost_round': 808}. Best is trial 41 with value: 0.24040207632022642.\n",
      "[I 2025-08-12 19:59:33,283] Trial 42 finished with value: 0.24247301449392372 and parameters: {'learning_rate': 0.08281601824309962, 'num_leaves': 84, 'max_depth': 6, 'min_data_in_leaf': 24, 'feature_fraction': 0.9691116274903059, 'bagging_fraction': 0.7276511646718626, 'bagging_freq': 5, 'lambda_l1': 3.7284570919179063, 'lambda_l2': 4.695917201008249, 'num_boost_round': 802}. Best is trial 41 with value: 0.24040207632022642.\n",
      "[I 2025-08-12 20:00:04,689] Trial 43 finished with value: 0.2403084712226781 and parameters: {'learning_rate': 0.09971920592296064, 'num_leaves': 92, 'max_depth': 6, 'min_data_in_leaf': 14, 'feature_fraction': 0.8882602167260434, 'bagging_fraction': 0.7442829600512374, 'bagging_freq': 5, 'lambda_l1': 4.366103242183743, 'lambda_l2': 4.196089035822264, 'num_boost_round': 749}. Best is trial 43 with value: 0.2403084712226781.\n",
      "[I 2025-08-12 20:00:40,970] Trial 44 finished with value: 0.23939975288290602 and parameters: {'learning_rate': 0.09778061003075043, 'num_leaves': 74, 'max_depth': 7, 'min_data_in_leaf': 16, 'feature_fraction': 0.8901027340775708, 'bagging_fraction': 0.7692196875273071, 'bagging_freq': 6, 'lambda_l1': 4.727082704441052, 'lambda_l2': 4.43290536399525, 'num_boost_round': 704}. Best is trial 44 with value: 0.23939975288290602.\n",
      "[I 2025-08-12 20:01:03,472] Trial 45 finished with value: 0.25075594411657814 and parameters: {'learning_rate': 0.08756683322629108, 'num_leaves': 75, 'max_depth': 3, 'min_data_in_leaf': 15, 'feature_fraction': 0.8891194601425281, 'bagging_fraction': 0.7665945862941951, 'bagging_freq': 6, 'lambda_l1': 4.477756171280754, 'lambda_l2': 3.968043229021312, 'num_boost_round': 694}. Best is trial 44 with value: 0.23939975288290602.\n",
      "[I 2025-08-12 20:01:31,456] Trial 46 finished with value: 0.24434048038827424 and parameters: {'learning_rate': 0.06345830298571242, 'num_leaves': 92, 'max_depth': 5, 'min_data_in_leaf': 17, 'feature_fraction': 0.8339652760485946, 'bagging_fraction': 0.7865300030755107, 'bagging_freq': 5, 'lambda_l1': 4.216708714101744, 'lambda_l2': 4.438922192452701, 'num_boost_round': 745}. Best is trial 44 with value: 0.23939975288290602.\n",
      "[I 2025-08-12 20:01:59,879] Trial 47 finished with value: 0.2433410403688966 and parameters: {'learning_rate': 0.09809496307545448, 'num_leaves': 43, 'max_depth': 7, 'min_data_in_leaf': 24, 'feature_fraction': 0.8895041069968347, 'bagging_fraction': 0.744928266734287, 'bagging_freq': 7, 'lambda_l1': 4.644920718306522, 'lambda_l2': 4.770051427670719, 'num_boost_round': 661}. Best is trial 44 with value: 0.23939975288290602.\n",
      "[I 2025-08-12 20:02:27,394] Trial 48 finished with value: 0.24746924656252278 and parameters: {'learning_rate': 0.08571114599877806, 'num_leaves': 83, 'max_depth': 4, 'min_data_in_leaf': 28, 'feature_fraction': 0.8196437832303144, 'bagging_fraction': 0.7697389661587025, 'bagging_freq': 8, 'lambda_l1': 4.26208784289752, 'lambda_l2': 1.224767156360913, 'num_boost_round': 755}. Best is trial 44 with value: 0.23939975288290602.\n",
      "[I 2025-08-12 20:03:05,018] Trial 49 finished with value: 0.2453685368577383 and parameters: {'learning_rate': 0.036590698285529626, 'num_leaves': 61, 'max_depth': 7, 'min_data_in_leaf': 18, 'feature_fraction': 0.8710958235451348, 'bagging_fraction': 0.7029152556763338, 'bagging_freq': 6, 'lambda_l1': 1.8847347075738952, 'lambda_l2': 4.205402215123577, 'num_boost_round': 681}. Best is trial 44 with value: 0.23939975288290602.\n"
     ]
    },
    {
     "name": "stdout",
     "output_type": "stream",
     "text": [
      "Best RMSPE: 0.23939975288290602\n",
      "Best Parameters:\n",
      "{'learning_rate': 0.09778061003075043, 'num_leaves': 74, 'max_depth': 7, 'min_data_in_leaf': 16, 'feature_fraction': 0.8901027340775708, 'bagging_fraction': 0.7692196875273071, 'bagging_freq': 6, 'lambda_l1': 4.727082704441052, 'lambda_l2': 4.43290536399525, 'num_boost_round': 704}\n"
     ]
    }
   ],
   "source": [
    "best_model_container = {'model': None}\n",
    "\n",
    "# --------------------------\n",
    "# RMSPE loss (gradient + hessian)\n",
    "# --------------------------\n",
    "def rmspe_objective(y_pred, dataset):\n",
    "    y_true = dataset.get_label()\n",
    "    eps = 0\n",
    "    residual = (y_true - y_pred) / (y_true + eps)\n",
    "\n",
    "    grad = -2.0 * residual / (y_true + eps)\n",
    "    hess = 2.0 / (y_true + eps) ** 2\n",
    "\n",
    "    return grad, hess\n",
    "\n",
    "# --------------------------\n",
    "# RMSPE evaluation function\n",
    "# --------------------------\n",
    "def rmspe_eval(y_pred, dataset):\n",
    "    y_true = dataset.get_label()\n",
    "    eps = 0\n",
    "    pct_error = (y_true - y_pred) / (y_true + eps)\n",
    "    score = np.sqrt(np.mean(pct_error ** 2))\n",
    "    return 'RMSPE', score, False  \n",
    "\n",
    "\n",
    "def objective(trial):\n",
    "\n",
    "    params = {\n",
    "        'objective': rmspe_objective,\n",
    "        'metric': 'none',  \n",
    "        'verbosity': -1,\n",
    "        'learning_rate': trial.suggest_float('learning_rate', 0.005, 0.1, log=True),\n",
    "        'num_leaves': trial.suggest_int('num_leaves', 16, 128),\n",
    "        'max_depth': trial.suggest_int('max_depth', 3, 7),\n",
    "        'min_data_in_leaf': trial.suggest_int('min_data_in_leaf', 10, 100),\n",
    "        'feature_fraction': trial.suggest_float('feature_fraction', 0.6, 1.0),\n",
    "        'bagging_fraction': trial.suggest_float('bagging_fraction', 0.5, 0.8),\n",
    "        'bagging_freq': trial.suggest_int('bagging_freq', 1, 10),\n",
    "        'lambda_l1': trial.suggest_float('lambda_l1', 0.0, 5.0),\n",
    "        'lambda_l2': trial.suggest_float('lambda_l2', 0.0, 5.0),\n",
    "        'num_boost_round': trial.suggest_int('num_boost_round', 600, 1000),\n",
    "        'early_stopping_rounds': 50\n",
    "    }\n",
    "    \n",
    "    df_train.sort_values('time_id_ordered', inplace = True)\n",
    "    t_train = max(df_train['time_id_ordered'])*0.8\n",
    "    X_train = df_train[df_train['time_id_ordered'] <= t_train].drop(columns=['target', 'row_id', 'time_id', 'time_id_ordered'])\n",
    "    X_val = df_train[df_train['time_id_ordered'] > t_train].drop(columns=['target', 'row_id', 'time_id', 'time_id_ordered'])\n",
    "    y_train = df_train[df_train['time_id_ordered'] <= t_train]['target'] \n",
    "    y_val = df_train[df_train['time_id_ordered'] > t_train]['target'] \n",
    "\n",
    "    categorical_features = ['stock_id']\n",
    "\n",
    "    lgb_train = lgb.Dataset(\n",
    "        X_train, \n",
    "        y_train, \n",
    "        categorical_feature = categorical_features\n",
    "    )\n",
    "    \n",
    "    lgb_val = lgb.Dataset(\n",
    "        X_val, \n",
    "        y_val, \n",
    "        categorical_feature = categorical_features, \n",
    "        reference = lgb_train\n",
    "    )\n",
    "\n",
    "    model = lgb.train(\n",
    "        params,\n",
    "        lgb_train,\n",
    "        valid_sets=[lgb_val],\n",
    "        feval= rmspe_eval\n",
    "    )\n",
    "\n",
    "\n",
    "    def rmspe(y_true, y_pred, eps = 0):\n",
    "      pct_error = (y_true - y_pred) / (y_true + eps)\n",
    "      return np.sqrt(np.mean(pct_error ** 2))\n",
    "\n",
    "\n",
    "    y_val_pred = model.predict(X_val, num_iteration = model.best_iteration)\n",
    "    rmspe_score = rmspe(y_val, y_val_pred)  \n",
    "\n",
    "    trial.set_user_attr(\"model\", model)\n",
    "        \n",
    "    return rmspe_score\n",
    "\n",
    "\n",
    "study = optuna.create_study(direction='minimize')\n",
    "study.optimize(objective, n_trials=50)\n",
    "\n",
    "print(\"Best RMSPE:\", study.best_value)\n",
    "print(\"Best Parameters:\")\n",
    "print(study.best_params)\n",
    "\n",
    "\n",
    "best_model = study.best_trial.user_attrs[\"model\"]"
   ]
  },
  {
   "cell_type": "code",
   "execution_count": 4,
   "id": "7c671523-f9af-4476-8244-c8f9a4b56984",
   "metadata": {},
   "outputs": [
    {
     "data": {
      "text/plain": [
       "<lightgbm.basic.Booster at 0x1fce9f59c30>"
      ]
     },
     "execution_count": 4,
     "metadata": {},
     "output_type": "execute_result"
    }
   ],
   "source": [
    "best_model.save_model('../models/lgbm_model.txt')"
   ]
  }
 ],
 "metadata": {
  "kernelspec": {
   "display_name": "Python (env310learning)",
   "language": "python",
   "name": "env310learning"
  },
  "language_info": {
   "codemirror_mode": {
    "name": "ipython",
    "version": 3
   },
   "file_extension": ".py",
   "mimetype": "text/x-python",
   "name": "python",
   "nbconvert_exporter": "python",
   "pygments_lexer": "ipython3",
   "version": "3.10.16"
  }
 },
 "nbformat": 4,
 "nbformat_minor": 5
}
