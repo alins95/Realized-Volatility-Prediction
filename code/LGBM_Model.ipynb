{
 "cells": [
  {
   "cell_type": "markdown",
   "id": "8831f493-681b-4240-ba91-4a515a866780",
   "metadata": {},
   "source": [
    "# LightGBM Prediction Model"
   ]
  },
  {
   "cell_type": "markdown",
   "id": "2ad48fbe-b7dc-4437-8e0d-a8e4fd899b9a",
   "metadata": {},
   "source": [
    "In this notebook, we train a LightGBM model for predicting the realized volatility. We will use the features generated in the feature_eng_notebook to train the model."
   ]
  },
  {
   "cell_type": "code",
   "execution_count": 2,
   "id": "92f81d1d-1037-4556-a285-c1c72a13b863",
   "metadata": {},
   "outputs": [],
   "source": [
    "# libraries and settings\n",
    "import pandas as pd\n",
    "import numpy as np\n",
    "import lightgbm as lgb\n",
    "from sklearn.model_selection import train_test_split\n",
    "from sklearn.preprocessing import StandardScaler\n",
    "from sklearn.cluster import KMeans\n",
    "import optuna\n",
    "import os \n",
    "import warnings\n",
    "\n",
    "warnings.filterwarnings('ignore')"
   ]
  },
  {
   "cell_type": "code",
   "execution_count": 3,
   "id": "8169cff2-4a60-4158-917b-40897f210c96",
   "metadata": {},
   "outputs": [],
   "source": [
    "# reading the training data \n",
    "df_train = pd.read_csv('../data/intermediate/df_train.csv')\n",
    "\n",
    "df_train.dropna(inplace=True)\n",
    "df_train['stock_id'] = df_train['row_id'].apply(lambda x: int(x.split('-')[0])).astype('category')"
   ]
  },
  {
   "cell_type": "markdown",
   "id": "e1b5c724-3b92-4cb2-a34e-bfbd987628df",
   "metadata": {},
   "source": [
    "## Training and Fine-Tuning the LGBM model"
   ]
  },
  {
   "cell_type": "code",
   "execution_count": 7,
   "id": "56eb1755-2859-4bf0-abd6-7bd98ccbae3f",
   "metadata": {},
   "outputs": [
    {
     "name": "stderr",
     "output_type": "stream",
     "text": [
      "[I 2025-07-05 23:57:23,463] A new study created in memory with name: no-name-7e70d250-1633-4db1-a2d1-5d03b29ab5d7\n",
      "[I 2025-07-05 23:58:02,146] Trial 0 finished with value: 0.23631128656606631 and parameters: {'learning_rate': 0.009135168854849492, 'num_leaves': 62, 'max_depth': 6, 'min_data_in_leaf': 10, 'feature_fraction': 0.8995861493609176, 'bagging_fraction': 0.7450178728664922, 'bagging_freq': 5, 'lambda_l1': 2.828367901987114, 'lambda_l2': 1.1963377793696401, 'num_boost_round': 998}. Best is trial 0 with value: 0.23631128656606631.\n",
      "[I 2025-07-05 23:58:13,582] Trial 1 finished with value: 0.23108472686151604 and parameters: {'learning_rate': 0.08492343017049693, 'num_leaves': 39, 'max_depth': 6, 'min_data_in_leaf': 57, 'feature_fraction': 0.7009842917838829, 'bagging_fraction': 0.6092944117851753, 'bagging_freq': 6, 'lambda_l1': 2.7424725459982504, 'lambda_l2': 0.7728249490311628, 'num_boost_round': 808}. Best is trial 1 with value: 0.23108472686151604.\n",
      "[I 2025-07-05 23:58:37,491] Trial 2 finished with value: 0.2391762332367157 and parameters: {'learning_rate': 0.015937628639420172, 'num_leaves': 99, 'max_depth': 3, 'min_data_in_leaf': 75, 'feature_fraction': 0.8465575370454701, 'bagging_fraction': 0.6921741935667995, 'bagging_freq': 2, 'lambda_l1': 2.1110550274457127, 'lambda_l2': 0.955400362583983, 'num_boost_round': 908}. Best is trial 1 with value: 0.23108472686151604.\n",
      "[I 2025-07-05 23:58:50,377] Trial 3 finished with value: 0.23954265250097284 and parameters: {'learning_rate': 0.057042110150059236, 'num_leaves': 119, 'max_depth': 4, 'min_data_in_leaf': 75, 'feature_fraction': 0.740619239487008, 'bagging_fraction': 0.752937901937438, 'bagging_freq': 9, 'lambda_l1': 3.81126621381323, 'lambda_l2': 0.1274073427281036, 'num_boost_round': 891}. Best is trial 1 with value: 0.23108472686151604.\n",
      "[I 2025-07-05 23:58:57,282] Trial 4 finished with value: 0.23940759550975882 and parameters: {'learning_rate': 0.07626964725063692, 'num_leaves': 121, 'max_depth': 3, 'min_data_in_leaf': 68, 'feature_fraction': 0.6800323831701012, 'bagging_fraction': 0.5372579537631106, 'bagging_freq': 9, 'lambda_l1': 0.5706225373562634, 'lambda_l2': 3.8932527296734882, 'num_boost_round': 974}. Best is trial 1 with value: 0.23108472686151604.\n",
      "[I 2025-07-05 23:59:15,265] Trial 5 finished with value: 0.23666437261975742 and parameters: {'learning_rate': 0.08721724363612934, 'num_leaves': 112, 'max_depth': 7, 'min_data_in_leaf': 43, 'feature_fraction': 0.9001211196370313, 'bagging_fraction': 0.7964835845758098, 'bagging_freq': 8, 'lambda_l1': 1.7308812851384892, 'lambda_l2': 1.4122577328485075, 'num_boost_round': 987}. Best is trial 1 with value: 0.23108472686151604.\n",
      "[I 2025-07-05 23:59:50,210] Trial 6 finished with value: 0.23567443134191388 and parameters: {'learning_rate': 0.008441439330112023, 'num_leaves': 88, 'max_depth': 6, 'min_data_in_leaf': 73, 'feature_fraction': 0.6302821550249796, 'bagging_fraction': 0.7570478106645337, 'bagging_freq': 5, 'lambda_l1': 2.1525888471127015, 'lambda_l2': 3.0096390735321146, 'num_boost_round': 939}. Best is trial 1 with value: 0.23108472686151604.\n",
      "[I 2025-07-06 00:00:03,287] Trial 7 finished with value: 0.23626052473285536 and parameters: {'learning_rate': 0.04349801913521766, 'num_leaves': 89, 'max_depth': 6, 'min_data_in_leaf': 24, 'feature_fraction': 0.8795166543831825, 'bagging_fraction': 0.5920472579617406, 'bagging_freq': 2, 'lambda_l1': 1.5915100008719079, 'lambda_l2': 0.14430696400970278, 'num_boost_round': 925}. Best is trial 1 with value: 0.23108472686151604.\n",
      "[I 2025-07-06 00:00:22,738] Trial 8 finished with value: 0.23443379965094807 and parameters: {'learning_rate': 0.0756477763741161, 'num_leaves': 105, 'max_depth': 5, 'min_data_in_leaf': 50, 'feature_fraction': 0.9224690462243845, 'bagging_fraction': 0.5065697923221167, 'bagging_freq': 8, 'lambda_l1': 3.0817638967370624, 'lambda_l2': 3.9235036670979193, 'num_boost_round': 669}. Best is trial 1 with value: 0.23108472686151604.\n",
      "[I 2025-07-06 00:00:49,555] Trial 9 finished with value: 0.23417056962190347 and parameters: {'learning_rate': 0.07481046646953031, 'num_leaves': 54, 'max_depth': 4, 'min_data_in_leaf': 64, 'feature_fraction': 0.9146448759175398, 'bagging_fraction': 0.6126630288571087, 'bagging_freq': 9, 'lambda_l1': 0.00397171559510856, 'lambda_l2': 0.8471786190521263, 'num_boost_round': 980}. Best is trial 1 with value: 0.23108472686151604.\n",
      "[I 2025-07-06 00:01:09,972] Trial 10 finished with value: 0.23644642710516284 and parameters: {'learning_rate': 0.02993008186633303, 'num_leaves': 22, 'max_depth': 7, 'min_data_in_leaf': 100, 'feature_fraction': 0.7720908931482348, 'bagging_fraction': 0.6558001958031395, 'bagging_freq': 4, 'lambda_l1': 4.625408154981511, 'lambda_l2': 2.385980552539826, 'num_boost_round': 767}. Best is trial 1 with value: 0.23108472686151604.\n",
      "[I 2025-07-06 00:01:32,489] Trial 11 finished with value: 0.23549607398173403 and parameters: {'learning_rate': 0.03738104716687767, 'num_leaves': 44, 'max_depth': 4, 'min_data_in_leaf': 38, 'feature_fraction': 0.7195571919548917, 'bagging_fraction': 0.6078941744295633, 'bagging_freq': 7, 'lambda_l1': 0.22842035724835108, 'lambda_l2': 2.1499189991874457, 'num_boost_round': 782}. Best is trial 1 with value: 0.23108472686151604.\n",
      "[I 2025-07-06 00:01:41,258] Trial 12 finished with value: 0.23683565188277028 and parameters: {'learning_rate': 0.09602991979449717, 'num_leaves': 46, 'max_depth': 5, 'min_data_in_leaf': 59, 'feature_fraction': 0.9790463651592638, 'bagging_fraction': 0.5886775058631173, 'bagging_freq': 10, 'lambda_l1': 1.047030712939498, 'lambda_l2': 4.891844565778722, 'num_boost_round': 600}. Best is trial 1 with value: 0.23108472686151604.\n",
      "[I 2025-07-06 00:02:07,874] Trial 13 finished with value: 0.23754298900990206 and parameters: {'learning_rate': 0.02006859353729285, 'num_leaves': 24, 'max_depth': 4, 'min_data_in_leaf': 95, 'feature_fraction': 0.8285643408280065, 'bagging_fraction': 0.6492693678692634, 'bagging_freq': 7, 'lambda_l1': 3.6073289504953556, 'lambda_l2': 0.7835228070665723, 'num_boost_round': 844}. Best is trial 1 with value: 0.23108472686151604.\n",
      "[I 2025-07-06 00:02:19,289] Trial 14 finished with value: 0.2368357645922625 and parameters: {'learning_rate': 0.04950806992585715, 'num_leaves': 61, 'max_depth': 5, 'min_data_in_leaf': 62, 'feature_fraction': 0.6073638251183614, 'bagging_fraction': 0.549265370211888, 'bagging_freq': 6, 'lambda_l1': 1.077475553250991, 'lambda_l2': 1.7886000788885443, 'num_boost_round': 711}. Best is trial 1 with value: 0.23108472686151604.\n",
      "[I 2025-07-06 00:02:49,545] Trial 15 finished with value: 0.24304824590907176 and parameters: {'learning_rate': 0.0050597378249841885, 'num_leaves': 36, 'max_depth': 4, 'min_data_in_leaf': 87, 'feature_fraction': 0.9670979409071241, 'bagging_fraction': 0.6418470140087462, 'bagging_freq': 3, 'lambda_l1': 4.839718378318992, 'lambda_l2': 0.5369210254606678, 'num_boost_round': 840}. Best is trial 1 with value: 0.23108472686151604.\n",
      "[I 2025-07-06 00:03:13,648] Trial 16 finished with value: 0.2347869726467245 and parameters: {'learning_rate': 0.02840117131978241, 'num_leaves': 68, 'max_depth': 6, 'min_data_in_leaf': 37, 'feature_fraction': 0.7903966069895061, 'bagging_fraction': 0.693146303100191, 'bagging_freq': 10, 'lambda_l1': 3.6729450541471893, 'lambda_l2': 3.0772925403377624, 'num_boost_round': 720}. Best is trial 1 with value: 0.23108472686151604.\n",
      "[I 2025-07-06 00:03:21,191] Trial 17 finished with value: 0.23582191125322388 and parameters: {'learning_rate': 0.06555199736666617, 'num_leaves': 51, 'max_depth': 7, 'min_data_in_leaf': 52, 'feature_fraction': 0.6720957985969751, 'bagging_fraction': 0.5656039201969503, 'bagging_freq': 6, 'lambda_l1': 2.655027885259227, 'lambda_l2': 1.6277809180348544, 'num_boost_round': 838}. Best is trial 1 with value: 0.23108472686151604.\n",
      "[I 2025-07-06 00:03:43,116] Trial 18 finished with value: 0.23997002529122813 and parameters: {'learning_rate': 0.016225650462325332, 'num_leaves': 81, 'max_depth': 3, 'min_data_in_leaf': 84, 'feature_fraction': 0.7288008716035521, 'bagging_fraction': 0.6201323370216484, 'bagging_freq': 4, 'lambda_l1': 1.2357587371215395, 'lambda_l2': 0.6522757998972208, 'num_boost_round': 865}. Best is trial 1 with value: 0.23108472686151604.\n",
      "[I 2025-07-06 00:04:02,673] Trial 19 finished with value: 0.23655486844625923 and parameters: {'learning_rate': 0.03600471256806603, 'num_leaves': 34, 'max_depth': 5, 'min_data_in_leaf': 27, 'feature_fraction': 0.841165747938031, 'bagging_fraction': 0.6876917102167617, 'bagging_freq': 1, 'lambda_l1': 0.035335486546011916, 'lambda_l2': 0.0070632309815504835, 'num_boost_round': 612}. Best is trial 1 with value: 0.23108472686151604.\n",
      "[I 2025-07-06 00:04:08,600] Trial 20 finished with value: 0.23898437009528378 and parameters: {'learning_rate': 0.05646444133646668, 'num_leaves': 16, 'max_depth': 5, 'min_data_in_leaf': 65, 'feature_fraction': 0.675916390913746, 'bagging_fraction': 0.5177431629162288, 'bagging_freq': 8, 'lambda_l1': 3.2246366375475457, 'lambda_l2': 1.8832069989867393, 'num_boost_round': 740}. Best is trial 1 with value: 0.23108472686151604.\n",
      "[I 2025-07-06 00:04:26,189] Trial 21 finished with value: 0.23451086628018186 and parameters: {'learning_rate': 0.09954053912817955, 'num_leaves': 58, 'max_depth': 5, 'min_data_in_leaf': 57, 'feature_fraction': 0.9415756381853182, 'bagging_fraction': 0.5102376746365467, 'bagging_freq': 8, 'lambda_l1': 3.1246591559975907, 'lambda_l2': 4.160938216895066, 'num_boost_round': 656}. Best is trial 1 with value: 0.23108472686151604.\n",
      "[I 2025-07-06 00:04:46,570] Trial 22 finished with value: 0.23292472420305624 and parameters: {'learning_rate': 0.06727840049947555, 'num_leaves': 76, 'max_depth': 6, 'min_data_in_leaf': 49, 'feature_fraction': 0.9298584279809502, 'bagging_fraction': 0.5729650207723516, 'bagging_freq': 7, 'lambda_l1': 4.165513635418552, 'lambda_l2': 2.941488888193946, 'num_boost_round': 674}. Best is trial 1 with value: 0.23108472686151604.\n",
      "[I 2025-07-06 00:04:55,695] Trial 23 finished with value: 0.23566755227840247 and parameters: {'learning_rate': 0.07070114322879578, 'num_leaves': 77, 'max_depth': 6, 'min_data_in_leaf': 46, 'feature_fraction': 0.9459430207952875, 'bagging_fraction': 0.5702308657814749, 'bagging_freq': 7, 'lambda_l1': 4.246534132990788, 'lambda_l2': 2.843035763970625, 'num_boost_round': 665}. Best is trial 1 with value: 0.23108472686151604.\n",
      "[I 2025-07-06 00:05:07,906] Trial 24 finished with value: 0.239072251635744 and parameters: {'learning_rate': 0.05180137825919562, 'num_leaves': 54, 'max_depth': 6, 'min_data_in_leaf': 30, 'feature_fraction': 0.9933807797605866, 'bagging_fraction': 0.6221787776006726, 'bagging_freq': 9, 'lambda_l1': 2.272375326793761, 'lambda_l2': 3.4909826374689663, 'num_boost_round': 815}. Best is trial 1 with value: 0.23108472686151604.\n",
      "[I 2025-07-06 00:05:25,249] Trial 25 finished with value: 0.2335217659178732 and parameters: {'learning_rate': 0.06358918724697062, 'num_leaves': 69, 'max_depth': 7, 'min_data_in_leaf': 52, 'feature_fraction': 0.8769064866054398, 'bagging_fraction': 0.5910538455699847, 'bagging_freq': 6, 'lambda_l1': 4.1862761881820445, 'lambda_l2': 2.579480400364955, 'num_boost_round': 753}. Best is trial 1 with value: 0.23108472686151604.\n",
      "[I 2025-07-06 00:05:35,958] Trial 26 finished with value: 0.23612531205390866 and parameters: {'learning_rate': 0.04357764791139952, 'num_leaves': 92, 'max_depth': 7, 'min_data_in_leaf': 51, 'feature_fraction': 0.8670138595458727, 'bagging_fraction': 0.5756922468705924, 'bagging_freq': 6, 'lambda_l1': 4.2983454379749855, 'lambda_l2': 2.454209462712603, 'num_boost_round': 694}. Best is trial 1 with value: 0.23108472686151604.\n",
      "[I 2025-07-06 00:05:45,989] Trial 27 finished with value: 0.23747515192782073 and parameters: {'learning_rate': 0.02982322973235851, 'num_leaves': 76, 'max_depth': 7, 'min_data_in_leaf': 41, 'feature_fraction': 0.8099824967568104, 'bagging_fraction': 0.5410836884908549, 'bagging_freq': 5, 'lambda_l1': 4.183573395250162, 'lambda_l2': 2.7205820184975416, 'num_boost_round': 756}. Best is trial 1 with value: 0.23108472686151604.\n",
      "[I 2025-07-06 00:06:04,490] Trial 28 finished with value: 0.23308338353426775 and parameters: {'learning_rate': 0.061961957600071865, 'num_leaves': 67, 'max_depth': 7, 'min_data_in_leaf': 36, 'feature_fraction': 0.8767063309369674, 'bagging_fraction': 0.5988764236472871, 'bagging_freq': 4, 'lambda_l1': 3.877415583250528, 'lambda_l2': 3.4144036034868415, 'num_boost_round': 787}. Best is trial 1 with value: 0.23108472686151604.\n",
      "[I 2025-07-06 00:06:26,517] Trial 29 finished with value: 0.2367918428629714 and parameters: {'learning_rate': 0.010873384836193312, 'num_leaves': 66, 'max_depth': 6, 'min_data_in_leaf': 12, 'feature_fraction': 0.7489184449852826, 'bagging_fraction': 0.5562459708282373, 'bagging_freq': 4, 'lambda_l1': 4.97095161012388, 'lambda_l2': 3.433153982190369, 'num_boost_round': 798}. Best is trial 1 with value: 0.23108472686151604.\n",
      "[I 2025-07-06 00:06:44,545] Trial 30 finished with value: 0.23591631344472272 and parameters: {'learning_rate': 0.02361081444189409, 'num_leaves': 41, 'max_depth': 6, 'min_data_in_leaf': 19, 'feature_fraction': 0.7015254053891783, 'bagging_fraction': 0.6685284821796079, 'bagging_freq': 3, 'lambda_l1': 3.3703031352157056, 'lambda_l2': 4.728576405731394, 'num_boost_round': 624}. Best is trial 1 with value: 0.23108472686151604.\n",
      "[I 2025-07-06 00:06:53,574] Trial 31 finished with value: 0.23511092412634813 and parameters: {'learning_rate': 0.061775221991953, 'num_leaves': 71, 'max_depth': 7, 'min_data_in_leaf': 34, 'feature_fraction': 0.8805442186346717, 'bagging_fraction': 0.5935943676558793, 'bagging_freq': 6, 'lambda_l1': 3.9539401974909087, 'lambda_l2': 3.3430067462302606, 'num_boost_round': 803}. Best is trial 1 with value: 0.23108472686151604.\n",
      "[I 2025-07-06 00:07:00,194] Trial 32 finished with value: 0.23545814695166287 and parameters: {'learning_rate': 0.08571134081291308, 'num_leaves': 82, 'max_depth': 7, 'min_data_in_leaf': 49, 'feature_fraction': 0.8676375973116741, 'bagging_fraction': 0.6298983210799605, 'bagging_freq': 5, 'lambda_l1': 4.39375357460661, 'lambda_l2': 2.053885369926163, 'num_boost_round': 749}. Best is trial 1 with value: 0.23108472686151604.\n",
      "[I 2025-07-06 00:07:10,325] Trial 33 finished with value: 0.23561510132217117 and parameters: {'learning_rate': 0.04454213199518442, 'num_leaves': 100, 'max_depth': 7, 'min_data_in_leaf': 56, 'feature_fraction': 0.8201235767779947, 'bagging_fraction': 0.5950518109274806, 'bagging_freq': 7, 'lambda_l1': 2.8002894942506282, 'lambda_l2': 1.2069156826292011, 'num_boost_round': 727}. Best is trial 1 with value: 0.23108472686151604.\n",
      "[I 2025-07-06 00:07:21,512] Trial 34 finished with value: 0.2356304176711746 and parameters: {'learning_rate': 0.05920595019593964, 'num_leaves': 64, 'max_depth': 6, 'min_data_in_leaf': 44, 'feature_fraction': 0.8552185692220561, 'bagging_fraction': 0.5315713352452763, 'bagging_freq': 3, 'lambda_l1': 3.9079188091023496, 'lambda_l2': 3.740732601715692, 'num_boost_round': 881}. Best is trial 1 with value: 0.23108472686151604.\n",
      "[I 2025-07-06 00:07:37,675] Trial 35 finished with value: 0.2306230863164971 and parameters: {'learning_rate': 0.08591330360774954, 'num_leaves': 73, 'max_depth': 7, 'min_data_in_leaf': 71, 'feature_fraction': 0.8947105935504415, 'bagging_fraction': 0.6032728220618001, 'bagging_freq': 4, 'lambda_l1': 4.582124444115889, 'lambda_l2': 2.6503402021640348, 'num_boost_round': 815}. Best is trial 35 with value: 0.2306230863164971.\n",
      "[I 2025-07-06 00:07:46,707] Trial 36 finished with value: 0.23627850488408447 and parameters: {'learning_rate': 0.08298390605951547, 'num_leaves': 95, 'max_depth': 6, 'min_data_in_leaf': 72, 'feature_fraction': 0.9339071094406741, 'bagging_fraction': 0.6721169662787296, 'bagging_freq': 4, 'lambda_l1': 4.72743176101824, 'lambda_l2': 3.160491112230792, 'num_boost_round': 815}. Best is trial 35 with value: 0.2306230863164971.\n",
      "[I 2025-07-06 00:07:59,209] Trial 37 finished with value: 0.23583166697633096 and parameters: {'learning_rate': 0.0948232666704174, 'num_leaves': 76, 'max_depth': 7, 'min_data_in_leaf': 80, 'feature_fraction': 0.9005024320926825, 'bagging_fraction': 0.7171797001591343, 'bagging_freq': 2, 'lambda_l1': 4.52340672327564, 'lambda_l2': 4.347804721466373, 'num_boost_round': 787}. Best is trial 35 with value: 0.2306230863164971.\n",
      "[I 2025-07-06 00:08:19,989] Trial 38 finished with value: 0.2315231555464426 and parameters: {'learning_rate': 0.08308473835812799, 'num_leaves': 84, 'max_depth': 7, 'min_data_in_leaf': 69, 'feature_fraction': 0.7788213327907201, 'bagging_fraction': 0.6370848754240769, 'bagging_freq': 5, 'lambda_l1': 3.569924177896473, 'lambda_l2': 3.671840445571453, 'num_boost_round': 910}. Best is trial 35 with value: 0.2306230863164971.\n",
      "[I 2025-07-06 00:08:46,584] Trial 39 finished with value: 0.23133331632914927 and parameters: {'learning_rate': 0.07752914191412347, 'num_leaves': 85, 'max_depth': 6, 'min_data_in_leaf': 77, 'feature_fraction': 0.7646220220157832, 'bagging_fraction': 0.632806745067565, 'bagging_freq': 7, 'lambda_l1': 3.4906415392198964, 'lambda_l2': 2.227342853567451, 'num_boost_round': 960}. Best is trial 35 with value: 0.2306230863164971.\n",
      "[I 2025-07-06 00:08:59,091] Trial 40 finished with value: 0.2312652498164967 and parameters: {'learning_rate': 0.07932575518578479, 'num_leaves': 106, 'max_depth': 7, 'min_data_in_leaf': 69, 'feature_fraction': 0.7654597635454056, 'bagging_fraction': 0.638372005183536, 'bagging_freq': 5, 'lambda_l1': 2.356271357683259, 'lambda_l2': 1.36589465249833, 'num_boost_round': 953}. Best is trial 35 with value: 0.2306230863164971.\n",
      "[I 2025-07-06 00:09:15,475] Trial 41 finished with value: 0.23203892680032695 and parameters: {'learning_rate': 0.08101721902280716, 'num_leaves': 107, 'max_depth': 7, 'min_data_in_leaf': 71, 'feature_fraction': 0.7696927913599975, 'bagging_fraction': 0.6403232236337643, 'bagging_freq': 5, 'lambda_l1': 2.409983794967807, 'lambda_l2': 1.1620426101634462, 'num_boost_round': 955}. Best is trial 35 with value: 0.2306230863164971.\n",
      "[I 2025-07-06 00:09:25,137] Trial 42 finished with value: 0.23434760413690986 and parameters: {'learning_rate': 0.07766025950814752, 'num_leaves': 117, 'max_depth': 7, 'min_data_in_leaf': 79, 'feature_fraction': 0.7841319127971843, 'bagging_fraction': 0.630863838105323, 'bagging_freq': 5, 'lambda_l1': 2.8578689280593634, 'lambda_l2': 0.3582133327732593, 'num_boost_round': 911}. Best is trial 35 with value: 0.2306230863164971.\n",
      "[I 2025-07-06 00:09:35,386] Trial 43 finished with value: 0.23535846841522504 and parameters: {'learning_rate': 0.0983082959526677, 'num_leaves': 86, 'max_depth': 7, 'min_data_in_leaf': 68, 'feature_fraction': 0.7622807411723879, 'bagging_fraction': 0.6639012908974214, 'bagging_freq': 5, 'lambda_l1': 1.9133588510222428, 'lambda_l2': 1.4149079261566748, 'num_boost_round': 998}. Best is trial 35 with value: 0.2306230863164971.\n",
      "[I 2025-07-06 00:09:43,849] Trial 44 finished with value: 0.23718185742452003 and parameters: {'learning_rate': 0.05124126500043237, 'num_leaves': 99, 'max_depth': 6, 'min_data_in_leaf': 89, 'feature_fraction': 0.6959231428324142, 'bagging_fraction': 0.6069982011996723, 'bagging_freq': 6, 'lambda_l1': 1.9924113506579528, 'lambda_l2': 2.2182476328185965, 'num_boost_round': 962}. Best is trial 35 with value: 0.2306230863164971.\n",
      "[I 2025-07-06 00:09:50,901] Trial 45 finished with value: 0.23436592734783873 and parameters: {'learning_rate': 0.07480955453963041, 'num_leaves': 106, 'max_depth': 7, 'min_data_in_leaf': 78, 'feature_fraction': 0.6552405582991558, 'bagging_fraction': 0.6524038822072478, 'bagging_freq': 4, 'lambda_l1': 3.467038214742067, 'lambda_l2': 1.5555249841571248, 'num_boost_round': 938}. Best is trial 35 with value: 0.2306230863164971.\n",
      "[I 2025-07-06 00:10:06,850] Trial 46 finished with value: 0.23375513028808567 and parameters: {'learning_rate': 0.0870530074121354, 'num_leaves': 125, 'max_depth': 6, 'min_data_in_leaf': 61, 'feature_fraction': 0.74438897330567, 'bagging_fraction': 0.6836667345545778, 'bagging_freq': 3, 'lambda_l1': 2.4893228968823466, 'lambda_l2': 1.1029278619050136, 'num_boost_round': 890}. Best is trial 35 with value: 0.2306230863164971.\n",
      "[I 2025-07-06 00:10:17,936] Trial 47 finished with value: 0.236639847870504 and parameters: {'learning_rate': 0.037988411007880196, 'num_leaves': 86, 'max_depth': 7, 'min_data_in_leaf': 68, 'feature_fraction': 0.716422036966689, 'bagging_fraction': 0.7049515503946872, 'bagging_freq': 7, 'lambda_l1': 3.006175491701777, 'lambda_l2': 0.96843503733745, 'num_boost_round': 917}. Best is trial 35 with value: 0.2306230863164971.\n",
      "[I 2025-07-06 00:10:31,545] Trial 48 finished with value: 0.2345788132106668 and parameters: {'learning_rate': 0.07610777873158917, 'num_leaves': 93, 'max_depth': 6, 'min_data_in_leaf': 75, 'feature_fraction': 0.8065385846867085, 'bagging_fraction': 0.774203666313431, 'bagging_freq': 5, 'lambda_l1': 1.6315959514415248, 'lambda_l2': 0.3614361957295589, 'num_boost_round': 947}. Best is trial 35 with value: 0.2306230863164971.\n",
      "[I 2025-07-06 00:10:46,139] Trial 49 finished with value: 0.23387774245418066 and parameters: {'learning_rate': 0.05361133989453362, 'num_leaves': 111, 'max_depth': 7, 'min_data_in_leaf': 83, 'feature_fraction': 0.7873839449860778, 'bagging_fraction': 0.613346213434418, 'bagging_freq': 6, 'lambda_l1': 2.666659213880588, 'lambda_l2': 1.862185125705457, 'num_boost_round': 978}. Best is trial 35 with value: 0.2306230863164971.\n"
     ]
    },
    {
     "name": "stdout",
     "output_type": "stream",
     "text": [
      "Best RMSPE: 0.2306230863164971\n",
      "Best Parameters:\n",
      "{'learning_rate': 0.08591330360774954, 'num_leaves': 73, 'max_depth': 7, 'min_data_in_leaf': 71, 'feature_fraction': 0.8947105935504415, 'bagging_fraction': 0.6032728220618001, 'bagging_freq': 4, 'lambda_l1': 4.582124444115889, 'lambda_l2': 2.6503402021640348, 'num_boost_round': 815}\n"
     ]
    }
   ],
   "source": [
    "best_model_container = {'model': None}\n",
    "\n",
    "# --------------------------\n",
    "# RMSPE loss (gradient + hessian)\n",
    "# --------------------------\n",
    "def rmspe_objective(y_pred, dataset):\n",
    "    y_true = dataset.get_label()\n",
    "    eps = 0\n",
    "    residual = (y_true - y_pred) / (y_true + eps)\n",
    "\n",
    "    grad = -2.0 * residual / (y_true + eps)\n",
    "    hess = 2.0 / (y_true + eps) ** 2\n",
    "\n",
    "    return grad, hess\n",
    "\n",
    "# --------------------------\n",
    "# RMSPE evaluation function\n",
    "# --------------------------\n",
    "def rmspe_eval(y_pred, dataset):\n",
    "    y_true = dataset.get_label()\n",
    "    eps = 0\n",
    "    pct_error = (y_true - y_pred) / (y_true + eps)\n",
    "    score = np.sqrt(np.mean(pct_error ** 2))\n",
    "    return 'RMSPE', score, False  \n",
    "\n",
    "\n",
    "def objective(trial):\n",
    "\n",
    "    params = {\n",
    "        'objective': rmspe_objective,\n",
    "        'metric': 'none',  \n",
    "        'verbosity': -1,\n",
    "        'learning_rate': trial.suggest_float('learning_rate', 0.005, 0.1, log=True),\n",
    "        'num_leaves': trial.suggest_int('num_leaves', 16, 128),\n",
    "        'max_depth': trial.suggest_int('max_depth', 3, 7),\n",
    "        'min_data_in_leaf': trial.suggest_int('min_data_in_leaf', 10, 100),\n",
    "        'feature_fraction': trial.suggest_float('feature_fraction', 0.6, 1.0),\n",
    "        'bagging_fraction': trial.suggest_float('bagging_fraction', 0.5, 0.8),\n",
    "        'bagging_freq': trial.suggest_int('bagging_freq', 1, 10),\n",
    "        'lambda_l1': trial.suggest_float('lambda_l1', 0.0, 5.0),\n",
    "        'lambda_l2': trial.suggest_float('lambda_l2', 0.0, 5.0),\n",
    "        'num_boost_round': trial.suggest_int('num_boost_round', 600, 1000),\n",
    "        'early_stopping_rounds': 50\n",
    "    }\n",
    "\n",
    "    X = df_train.drop(columns=['target', 'row_id'])\n",
    "    y = df_train['target']  \n",
    "\n",
    "    X_train, X_val, y_train, y_val = train_test_split(X, y, test_size = 0.2, random_state = 42)\n",
    "\n",
    "    categorical_features = ['stock_id']\n",
    "\n",
    "    lgb_train = lgb.Dataset(\n",
    "        X_train, \n",
    "        y_train, \n",
    "        categorical_feature = categorical_features\n",
    "    )\n",
    "    \n",
    "    lgb_val = lgb.Dataset(\n",
    "        X_val, \n",
    "        y_val, \n",
    "        categorical_feature = categorical_features, \n",
    "        reference = lgb_train\n",
    "    )\n",
    "\n",
    "    model = lgb.train(\n",
    "        params,\n",
    "        lgb_train,\n",
    "        valid_sets=[lgb_val],\n",
    "        feval= rmspe_eval\n",
    "    )\n",
    "\n",
    "\n",
    "    def rmspe(y_true, y_pred, eps = 0):\n",
    "      pct_error = (y_true - y_pred) / (y_true + eps)\n",
    "      return np.sqrt(np.mean(pct_error ** 2))\n",
    "\n",
    "\n",
    "    y_val_pred = model.predict(X_val, num_iteration = model.best_iteration)\n",
    "    rmspe_score = rmspe(y_val, y_val_pred)  \n",
    "\n",
    "    trial.set_user_attr(\"model\", model)\n",
    "        \n",
    "    return rmspe_score\n",
    "\n",
    "\n",
    "study = optuna.create_study(direction='minimize')\n",
    "study.optimize(objective, n_trials=50)\n",
    "\n",
    "print(\"Best RMSPE:\", study.best_value)\n",
    "print(\"Best Parameters:\")\n",
    "print(study.best_params)\n",
    "\n",
    "\n",
    "best_model = study.best_trial.user_attrs[\"model\"]"
   ]
  },
  {
   "cell_type": "code",
   "execution_count": 27,
   "id": "7c671523-f9af-4476-8244-c8f9a4b56984",
   "metadata": {},
   "outputs": [
    {
     "data": {
      "text/plain": [
       "<lightgbm.basic.Booster at 0x2320d803490>"
      ]
     },
     "execution_count": 27,
     "metadata": {},
     "output_type": "execute_result"
    }
   ],
   "source": [
    "best_model.save_model('../models/lgbm_model.txt')"
   ]
  }
 ],
 "metadata": {
  "kernelspec": {
   "display_name": "Python (env310learning)",
   "language": "python",
   "name": "env310learning"
  },
  "language_info": {
   "codemirror_mode": {
    "name": "ipython",
    "version": 3
   },
   "file_extension": ".py",
   "mimetype": "text/x-python",
   "name": "python",
   "nbconvert_exporter": "python",
   "pygments_lexer": "ipython3",
   "version": "3.10.16"
  }
 },
 "nbformat": 4,
 "nbformat_minor": 5
}
