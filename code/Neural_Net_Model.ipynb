{
 "cells": [
  {
   "cell_type": "code",
   "execution_count": 1,
   "metadata": {
    "executionInfo": {
     "elapsed": 6191,
     "status": "ok",
     "timestamp": 1755275556556,
     "user": {
      "displayName": "ali naseri sadr",
      "userId": "10195290729978755163"
     },
     "user_tz": 240
    },
    "id": "6HN7NgGghkDK"
   },
   "outputs": [],
   "source": [
    "#Loading all the necessary libaries\n",
    "\n",
    "import pandas as pd\n",
    "import numpy as np\n",
    "import torch\n",
    "import torch.nn as nn\n",
    "from torch.utils.data import TensorDataset, DataLoader\n",
    "from sklearn.preprocessing import StandardScaler\n",
    "from sklearn.model_selection import train_test_split\n",
    "from tqdm.notebook import tqdm"
   ]
  },
  {
   "cell_type": "code",
   "execution_count": 2,
   "metadata": {
    "executionInfo": {
     "elapsed": 18,
     "status": "ok",
     "timestamp": 1755275557654,
     "user": {
      "displayName": "ali naseri sadr",
      "userId": "10195290729978755163"
     },
     "user_tz": 240
    },
    "id": "nekiFqQqhw_3"
   },
   "outputs": [],
   "source": [
    "device = 'cuda' if torch.cuda.is_available() else 'cpu'"
   ]
  },
  {
   "cell_type": "markdown",
   "metadata": {
    "id": "eU-2foyHpGux"
   },
   "source": [
    "**Loading the data**"
   ]
  },
  {
   "cell_type": "code",
   "execution_count": 3,
   "metadata": {
    "colab": {
     "base_uri": "https://localhost:8080/"
    },
    "executionInfo": {
     "elapsed": 36739,
     "status": "ok",
     "timestamp": 1755275597598,
     "user": {
      "displayName": "ali naseri sadr",
      "userId": "10195290729978755163"
     },
     "user_tz": 240
    },
    "id": "irwJcJKMh1pI",
    "outputId": "078370ba-4a14-4554-c88d-93e79713b42f"
   },
   "outputs": [
    {
     "name": "stdout",
     "output_type": "stream",
     "text": [
      "Mounted at /content/drive\n"
     ]
    }
   ],
   "source": [
    "from google.colab import drive\n",
    "drive.mount('/content/drive')\n",
    "df_train = pd.read_csv('/content/drive/MyDrive/Data/df_train.csv')\n",
    "train = pd.read_csv('/content/drive/MyDrive/Data/train.csv')"
   ]
  },
  {
   "cell_type": "markdown",
   "metadata": {
    "id": "62BEzQkTitc8"
   },
   "source": [
    "**Preparing and splitting the data for training**\n",
    "\n",
    "\n",
    "*   Here we use the time order(in time_order.csv) to split our data.\n",
    "*   This helps us to avoid future looking and get better generalization on real time data.\n",
    "\n",
    "\n",
    "\n"
   ]
  },
  {
   "cell_type": "code",
   "execution_count": null,
   "metadata": {
    "id": "e0CBSFtBVYc_"
   },
   "outputs": [],
   "source": [
    "time_order = pd.read_csv('time_order.csv')\n",
    "\n",
    "df_train['stock_id'] = df_train['row_id'].apply(lambda x: int(x.split('-')[0]))\n",
    "df_train['time_id'] = df_train['row_id'].apply(lambda x: int(x.split('-')[1]))\n",
    "\n",
    "df_train['target'] = train['target']\n",
    "\n",
    "df_train = pd.merge(df_train, time_order, on = 'time_id')\n",
    "df_train.sort_values('time_id_ordered', inplace = True)\n"
   ]
  },
  {
   "cell_type": "code",
   "execution_count": null,
   "metadata": {
    "id": "oaJ1JO-gh6MA"
   },
   "outputs": [],
   "source": [
    "df_train.dropna(inplace=True)\n",
    "\n",
    "\n",
    "t_train = max(df_train['time_id_ordered'])*0.8\n",
    "\n",
    "X_train = df_train[df_train['time_id_ordered'] <= t_train].drop(columns=['target', 'row_id', 'time_id', 'time_id_ordered', 'stock_id']).to_numpy()\n",
    "\n",
    "stock_data_train = df_train[df_train['time_id_ordered'] <= t_train]['stock_id'].to_numpy()\n",
    "\n",
    "X_test = df_train[df_train['time_id_ordered'] > t_train].drop(columns=['target', 'row_id', 'time_id', 'time_id_ordered', 'stock_id']).to_numpy()\n",
    "\n",
    "stock_data_test = df_train[df_train['time_id_ordered'] > t_train]['stock_id'].to_numpy()\n",
    "\n",
    "y_train = df_train[df_train['time_id_ordered'] <= t_train]['target'].to_numpy()\n",
    "\n",
    "y_test = df_train[df_train['time_id_ordered'] > t_train]['target'].to_numpy()\n",
    "\n",
    "\n",
    "numeric_features = X_train.shape[1]\n"
   ]
  },
  {
   "cell_type": "markdown",
   "metadata": {
    "id": "IVnfEm4pi5V9"
   },
   "source": [
    "**Scaling the data**"
   ]
  },
  {
   "cell_type": "code",
   "execution_count": null,
   "metadata": {
    "id": "IHNDyPMXiiQo"
   },
   "outputs": [],
   "source": [
    "scaler = StandardScaler()\n",
    "\n",
    "scaler.fit(X_train)\n",
    "\n",
    "X_scaled_train = scaler.transform(X_train)\n",
    "X_scaled_test = scaler.transform(X_test)\n",
    "\n",
    "X_numeric_train = torch.from_numpy(X_scaled_train).float()\n",
    "X_numeric_test = torch.from_numpy(X_scaled_test).float()\n",
    "\n",
    "X_stock_train = torch.from_numpy(stock_data_train.reshape(-1,1)).long()\n",
    "X_stock_test = torch.from_numpy(stock_data_test.reshape(-1,1)).long()\n",
    "\n",
    "y_train = torch.from_numpy(y_train).float()\n",
    "y_test = torch.from_numpy(y_test).float()"
   ]
  },
  {
   "cell_type": "markdown",
   "metadata": {
    "id": "lFNTr23fjMhG"
   },
   "source": [
    "**Defining the model**\n",
    "\n",
    "Our model has an embedding layer with(embedding dimension = 50) that keeps track of different stock_id's. In the forward method, we apply a sigmoid to the ouput of our network, since volatality is positive, and all the data points have volatality less than 1. We use eight hidden layers for our network, and there are no batch normalization or drop out layers. The activation function in our model is SELU which gives us better normalization during training."
   ]
  },
  {
   "cell_type": "code",
   "execution_count": null,
   "metadata": {
    "id": "4c4fQ8xLi_4t"
   },
   "outputs": [],
   "source": [
    "num_of_diff_stocks = max(df_train['stock_id'].unique())+1\n",
    "\n",
    "class Stock_Volatility(nn.Module):\n",
    "  def __init__(self, hidden_units, emd_dim, num_features):\n",
    "      super().__init__()\n",
    "      self.embd = nn.Embedding(num_of_diff_stocks, emd_dim)\n",
    "      layers = []\n",
    "      in_dim = emd_dim+num_features\n",
    "      self.out = nn.Sigmoid()\n",
    "      for l in hidden_units:\n",
    "        layers.append(nn.Linear(in_dim, l))\n",
    "        layers.append(nn.SELU())\n",
    "        in_dim = l\n",
    "      self.hidden = nn.Sequential(*layers)\n",
    "      self.output = nn.Linear(in_dim, 1)\n",
    "  def forward(self, stock_id, numeric):\n",
    "    x_stock = self.embd(stock_id.long()).squeeze(1)\n",
    "    x = torch.cat([numeric, x_stock], dim=1)\n",
    "    x = self.hidden(x)\n",
    "    return self.out(self.output(x))\n",
    "\n",
    "emd_dim = 50  #Setting the embd dimension\n",
    "\n",
    "hidden_units = [256, 256, 128, 128, 64, 64, 32, 32] #Setting the hidden layers\n",
    "\n",
    "model = Stock_Volatility(hidden_units, emd_dim, numeric_features)"
   ]
  },
  {
   "cell_type": "markdown",
   "metadata": {
    "id": "7PCx1_aIdAQi"
   },
   "source": [
    "**Weight Initialization**\n",
    "\n",
    "We use Lecun method for our weight initialization, since our activation function is SELU, and it gives a better starting point for training.\n",
    "\n",
    "\n"
   ]
  },
  {
   "cell_type": "code",
   "execution_count": null,
   "metadata": {
    "colab": {
     "base_uri": "https://localhost:8080/"
    },
    "executionInfo": {
     "elapsed": 9,
     "status": "ok",
     "timestamp": 1755203044639,
     "user": {
      "displayName": "ali naseri sadr",
      "userId": "10195290729978755163"
     },
     "user_tz": 240
    },
    "id": "EIDZP7tG7MhT",
    "outputId": "5312f1d9-4417-42ea-91d4-e1323723c5db"
   },
   "outputs": [
    {
     "data": {
      "text/plain": [
       "Stock_Volatility(\n",
       "  (embd): Embedding(127, 50)\n",
       "  (out): Sigmoid()\n",
       "  (hidden): Sequential(\n",
       "    (0): Linear(in_features=162, out_features=256, bias=True)\n",
       "    (1): SELU()\n",
       "    (2): Linear(in_features=256, out_features=256, bias=True)\n",
       "    (3): SELU()\n",
       "    (4): Linear(in_features=256, out_features=128, bias=True)\n",
       "    (5): SELU()\n",
       "    (6): Linear(in_features=128, out_features=128, bias=True)\n",
       "    (7): SELU()\n",
       "    (8): Linear(in_features=128, out_features=64, bias=True)\n",
       "    (9): SELU()\n",
       "    (10): Linear(in_features=64, out_features=64, bias=True)\n",
       "    (11): SELU()\n",
       "    (12): Linear(in_features=64, out_features=32, bias=True)\n",
       "    (13): SELU()\n",
       "    (14): Linear(in_features=32, out_features=32, bias=True)\n",
       "    (15): SELU()\n",
       "  )\n",
       "  (output): Linear(in_features=32, out_features=1, bias=True)\n",
       ")"
      ]
     },
     "execution_count": 137,
     "metadata": {},
     "output_type": "execute_result"
    }
   ],
   "source": [
    "torch.manual_seed(42)\n",
    "\n",
    "import math\n",
    "\n",
    "def lecun_normal(tensor):\n",
    "    fan_in = nn.init._calculate_correct_fan(tensor, mode='fan_in')\n",
    "    std = 1.0 / math.sqrt(fan_in)\n",
    "    with torch.no_grad():\n",
    "        return tensor.normal_(0, std)\n",
    "\n",
    "\n",
    "def init_lecun(m):\n",
    "    if isinstance(m, (nn.Linear)):\n",
    "        lecun_normal(m.weight)  # good for SELU\n",
    "        if m.bias is not None:\n",
    "            nn.init.zeros_(m.bias)\n",
    "\n",
    "model.apply(init_lecun)\n"
   ]
  },
  {
   "cell_type": "markdown",
   "metadata": {
    "id": "zAyK4K6nkhOw"
   },
   "source": [
    "**Defining the loss function**\n",
    "\n",
    "We use rmspe loss function for the training loop defined as follows."
   ]
  },
  {
   "cell_type": "code",
   "execution_count": null,
   "metadata": {
    "id": "aDaOIiC6keAw"
   },
   "outputs": [],
   "source": [
    "def rmspe(y_true, y_pred):\n",
    "    ratio = (y_pred - y_true) / y_true\n",
    "    return torch.sqrt(torch.mean(ratio**2))"
   ]
  },
  {
   "cell_type": "markdown",
   "metadata": {
    "id": "xZQzp3W6k3bQ"
   },
   "source": [
    "**Preparing the Batches**\n",
    "\n",
    "Our batch size is 256."
   ]
  },
  {
   "cell_type": "code",
   "execution_count": null,
   "metadata": {
    "colab": {
     "base_uri": "https://localhost:8080/"
    },
    "executionInfo": {
     "elapsed": 3,
     "status": "ok",
     "timestamp": 1755203048276,
     "user": {
      "displayName": "ali naseri sadr",
      "userId": "10195290729978755163"
     },
     "user_tz": 240
    },
    "id": "mz7tN9nek2pu",
    "outputId": "35feba0d-5058-4b66-b3ed-b6345db896c5"
   },
   "outputs": [
    {
     "name": "stdout",
     "output_type": "stream",
     "text": [
      "Number of batches: 1289\n"
     ]
    }
   ],
   "source": [
    "dataset = TensorDataset(X_numeric_train ,X_stock_train, y_train)\n",
    "\n",
    "loader = DataLoader(dataset, batch_size=256, shuffle=True,\n",
    "                    num_workers=4, pin_memory=True)\n",
    "\n",
    "num_batches = len(loader)\n",
    "\n",
    "print(f'Number of batches: {num_batches}')"
   ]
  },
  {
   "cell_type": "markdown",
   "metadata": {
    "id": "-nqx8AfGlTFY"
   },
   "source": [
    "**Setting up the optimizer and scheduler**"
   ]
  },
  {
   "cell_type": "code",
   "execution_count": null,
   "metadata": {
    "id": "OdkzsJWZkz7_"
   },
   "outputs": [],
   "source": [
    "optimizer = torch.optim.AdamW(\n",
    "    model.parameters(), lr=1e-4, weight_decay=1e-2)\n",
    "\n",
    "scheduler = torch.optim.lr_scheduler.StepLR(optimizer, step_size=5, gamma=0.9)"
   ]
  },
  {
   "cell_type": "markdown",
   "metadata": {
    "id": "jKATD5MNlgMC"
   },
   "source": [
    "**Training the model**\n",
    "\n",
    "We train for 21 epochs with batch_size 256. Every 5 epochs we compute our test(val) error."
   ]
  },
  {
   "cell_type": "code",
   "execution_count": null,
   "metadata": {
    "colab": {
     "base_uri": "https://localhost:8080/",
     "height": 868,
     "referenced_widgets": [
      "3d401b7b1b0742418500137a97d37670",
      "2c38574908ee4623a72c9743ad6a045a",
      "6a8f392e860f421eb399a07165e1fae5",
      "c5a2295d989241ef852f04b20d6168d9",
      "6931499c28b54376ba6320d7c303e394",
      "87bd26d58e7046f0b44500e3faaac406",
      "5982ebd2bb154d7c85e70914c63e968a",
      "52b45c7f811640979c776cb955f8da6a",
      "a13e16f347b14b65a9cbd18887b5f2b5",
      "ea4922e5d36842dcab0b90645f1c4f9d",
      "3ec20667fd26456297ecd7f82ba72eb0",
      "7c84fc03939549f09eb294aa79b0aa00",
      "7e514c0142644ed88f234719ed815f02",
      "dcdc1842aa1448e28eb32be7448a328b",
      "0cad13c2db4840e3940b785f8863bfa6",
      "d176f4e599634deda569ef231d64fe5f",
      "2a6a757f6d9d4612ae5ed488e52b651f",
      "a8b26fae42cc4f3286a3f38b03d47bff",
      "a69a1e82dab440628bfe8127ee9845f9",
      "45e89c914f0a433b946070643767353d",
      "029f6993b3ee4f1483dc2c57f8572706",
      "bcb9957a53e24e3eae26c09681484b36",
      "e217bcb256df4c0da364b1c1a2823b53",
      "99266292b58844169437be03c8d228d1",
      "bff2ed737cf543ee8a7b2bcc57f7ee31",
      "a5fcedc259184eb69e1f6e2645fbf742",
      "d65ed6a156f34e64880f61b16bfb0af8",
      "ac805a8d4f4c4797a9bf92ad178813cb",
      "8e17ddab72a14b049a3206ba7ddf5d68",
      "f196aca8231b4b928cb711c60a9aead6",
      "a0e3f2689caf4c0795f0e9fabbac4759",
      "b1ccb7d440004641b6a367b2d7e48d3e",
      "770a8e980965454d91149f8296fcdf3a",
      "8ceb4617a27f45e7aab826e640d47d29",
      "5216ec88618d4ee98672cedc882e4a8f",
      "2bfae84480874a4aaa87e738f1dbb87f",
      "ce8c1b405b3f4efdb219ad66e4fb3840",
      "9dd042e435e4407aafafa65a817f69ff",
      "762fd94a57fa405db53ce5b890015ec8",
      "60614dea7d224324a5a891392af64a5c",
      "6d35d78ffa644e418bc3dd055c474a58",
      "dd93f5a3482b45b1920533a1bdc9a1f8",
      "94787474ec1346a1b0093b738dcc25d1",
      "0b5786f433ab4361b154ded1cead7ff4",
      "6f9780c2a9be4fcbb9c1809a6fa376b2",
      "c30eace8efb4419aa6b489a037d65b2f",
      "6f1e3648e4c84ef58e496488fb542fd3",
      "5e8b73ad47774a9d8ffaeb75ef36cde6",
      "0dab65bb95d64f1dba10e55a0047958b",
      "5c419b22419d446ebe54067735ca178c",
      "6063384092774e5881a4e848714de228",
      "076d3283023c41888dd049ae544361a8",
      "822a81669afa423ca36e5c057aed00a7",
      "ea0afc21a24941a3816c13cc5c7bc6d8",
      "994dc0f4d6774e4bb033a8cf23ac4169",
      "b6bfabf205294506b7fcff47f124cefa",
      "992fe3f1b1b84bf1ac9f601632959924",
      "8829117fb3ff4ff5b473c79ef3d6ed5e",
      "f34d43aef13b44ae8a2441ef52feb620",
      "ba93d673b4c140578444e9f0610c081f",
      "4dfc32a1e67c45859bc4a5fc16a8306f",
      "a1733ef3dc284bd0a69d42408018717a",
      "1a811474fa924818b32296c66433c2ae",
      "18f36bae371c4683a2c2b92e1e5df2f5",
      "940de4442bdd445f94456a495634746c",
      "28677319502f4816b08573cbdb2b34bc",
      "f45c4623de4d4797b676f7dfe82322e9",
      "a1bc4364bf9d49b3b0bcfc8f88c763f7",
      "d1f00075c96941e08e27cfdecb568a10",
      "86b5ec033ba94c6db6ebc3ed3b2d4857",
      "6798b099d9084682afff6cae755b0eeb",
      "56cdb0e446264ca8bfc5fce288455234",
      "35172af8473944d4b9a54cb3383d1bac",
      "7fa5819e53f546739ef8766c9b6b9459",
      "ee5154671cd64a9e9d252810e5b585b2",
      "4143c5f24d564e599c587f248cf79f2d",
      "46b204e2247d483c9bc49ddd4db78c30",
      "32d31eedefaf42bfb38fa4f2ad85a6fc",
      "1cce11381f084b62b88b9b3b688d484b",
      "5ab0b370ebf841c2b2d63314b108ed5c",
      "dabd3c8a62f44f8fa116b47952f8337b",
      "2ab412a4505b4717ae9c9928e0bdb12a",
      "103b5593cc2449e597ac660357869d64",
      "0556a6dc38bc4228972a393459cd0958",
      "f7619b7ab9084837b9aaa8464c2b7b70",
      "b0bd4cbc1e394763924db1e75c691073",
      "de72cf49d1dd46cbb7833a14cd6ff149",
      "1ad930a8a8fa4cb393bba36a92e7847e",
      "1889dc0b545c4d1da00ba7d53a4c871b",
      "afe60e35decc43e9b790524ccbf17c48",
      "c5dcd015ba2c4d8d9b38626008df69b1",
      "ca3780f414344b1fba261261815238ec",
      "b6ee04c168e8497cb58c177abd6fc13e",
      "29cd4c2934c84ed7bd5fe996bf00816a",
      "5a8d4e991b4547dfa25be1f384efad3a",
      "dbdfff0b5b3d4e3296b836d74a9b4f11",
      "c89052533f4d4d22bc840f79014a4cf2",
      "345ceeb4889342d7ab6fcbe65100af97",
      "0e980f9383194e29a5c9b579e6aebe4e",
      "e7228fbc467847d480e8c0c8838d24a9",
      "85c96c794fd04adea992ed3924070ec9",
      "4ddd2800c8104e4c8462c1e3699921ee",
      "e31fbdd4100448a099104ac232674f69",
      "3e6308fb138a44babb187a6a9ac0884e",
      "c29c6406e5fc4cd1bbbe16d177e5996c",
      "55ef6411ae2c4c2b917b147d75b7f01d",
      "7e8ee78f86e34bb9abe8f6dd9d7074ff",
      "38c162f205fb4fe3bf0f74e68029a624",
      "e56ab1e714644b84b9c0bbc45259935b",
      "acc4eba6f7514065bd984fa1940058d3",
      "ed7f96cb58fc4157bb2ba943fe1efeb5",
      "0d9a2747159a45479f3eb8938bf05bcd",
      "0f174ddeb30745308fb74dde6a2694cd",
      "5117030e4bec4740b3ab9479d8356caf",
      "e7af638a0f034e439609f77bfbd34e70",
      "353d891a2b094ee7bda6a0b34aea0946",
      "05f2534dfabb45fbaa5c6caec15575bd",
      "0bc287fe165f4e0fa4cccb40de5dd740",
      "6fbb4fcde40f402da57ab9c664078a0e",
      "c5c327ea46244a7eabce76494f0f9636",
      "7b408aded64b4eab8f40ec37c55b8178",
      "58b25f3dab144a5c911220b4a306ad02",
      "d43af517a7ed4f039235ddb4f769877b",
      "e2a368c3e6eb47b2965cd30a6e258031",
      "010846278b2e482aa52c05ccc05d6f1b",
      "8e4e1c68455e466db9349f408ad409e0",
      "7b102d2a7e26475686a7297becddc6e0",
      "6f846d86826e42548e340683f6e3cda4",
      "5bbe13951c124185ae675f140d1254be",
      "c69f7b2956b446a5aaec66c93e4e623a",
      "a5eef702f4894976a33442a7f7eace89",
      "6a611fe8740a46e0bf483d83d99fd0e3",
      "9bb4491001d3470480a55ec2f2efd55a",
      "b4e6e961da78458fb13d560088d6a1e4",
      "9198fe6e8c864c11ade5475368f51a6f",
      "897b2b8e306046fb8a582969bb5571fa",
      "16fe481e3ca847f7bba026a26424c837",
      "5810d34968d3429582a13e28ec101b9c",
      "a2d27d5bc0ad46b8aced025352ec0afa",
      "42a5f8045b1948ef9f946b055fda2f93",
      "55b1029427934f239b862146eb8bdea6",
      "9d89f044bc4240559957c940b7598458",
      "ad90ed5f3b574cdf88f04e40069753b6",
      "04d22c0bae4a4d589d6ba929a44b7e64",
      "1e864302f7cf4fceae84972d93638919",
      "0c31f4170b304b21949fb35bcff38df5",
      "0561ab4ee2b843f1922b3899939f0b47",
      "397e1be0c47443e08c387922c02541b6",
      "357f59f8c5fb417b9e5ad8f258f83ed8",
      "c6a6f00b6da94b16b194db370d0426ec",
      "04855e5a2f5843a8a31aabca73a4857d",
      "3eb3f59182e44b05b18a241936187f2f",
      "9ee185447af04a48b810cbfd73f4a7ad",
      "af65d308721c47b78effcc6017b883df",
      "b19e0b93fe6e4c01bd26949b43f04328",
      "548b528480634251a1d6bbbe6984493a",
      "60fe23b587724309b51a2e09cc639834",
      "bf29f73e230a4aaa96fa68deef311493",
      "efd5827b328247e5ba6327ae0d223c3e",
      "7c4047c340ed4a3e8365cb4fc80a03b6",
      "d40d608a16f2496088b75cf18eb4cb3b",
      "47bf49e1d5d6491d8c81ea9bff31ccf3",
      "edd06b38bd6643519fff0ca089f8fba1",
      "bf4aa4afdbc943f4b16c84b0bef0e993",
      "a159c5dfaa2e448daefff84d42447e5e",
      "c600599aead44b5baec0bfe908e16244",
      "3b68abb321ca4c62bc6f84be3e8c643a",
      "66464647598345238f82167285dfb804",
      "b732ccd059874a97a49ba1f9073f56d0",
      "43068111822b4fdaa62d29e5b948306f",
      "ef56e43121cd4198a84f58ba38839091",
      "91afa03bd4b54a749260d81839ff7bfd",
      "657dfa09d89f4ea9bfc7269f2044fd40",
      "2f7831f34fbf4baaaaedf1b2651725fd",
      "8896ae81ed39406eb83787f4811f30ed",
      "af1069a36cfe480897d509f07f8de2b1",
      "e11b053884c9441e856bf360c2a59d37",
      "d857395b6097406db75d9b2b95b9555d",
      "39e38808efef4bd988012f1cf6251f6a",
      "bae9f896c701411c9a898a444edb801f",
      "1c8eb38bf5ad4e7997a7d390048367de",
      "7868e74a16ab4743bd5fe26d825208f3",
      "20dc2f008dc643e28b62ab5a656c4f3b",
      "16adf6608d564332843cc2bae871b693",
      "bbe4cec0eab94a9e83073c00eb9a978d",
      "d4f873b5e43c485d9fe5538f7762b25e",
      "6f6934ea9f9d46a5b8ff895da7f18760",
      "29b2d268a4204013b0db6c3ea6fd1a08",
      "cae69371bee641f7acf50b354818628f",
      "183c1485797c457d9051b6381146fa2e",
      "2c0002e2cb5f4fa9877aab59f8fd0665",
      "6db467a2aba144f2a59a0c8406dff3e6",
      "ef9c75d6e9184e5a81ddcd43a26e7879",
      "bcfb3883c6674a2e89d45b994ed55c36",
      "5bba8b7267ad40269490c531634dca54",
      "2bcf285593b94cee8648caa8250d3d34",
      "4165eb6bacc8478481904804e5263300",
      "12c824fe8ec24b77a339683165b65b36",
      "f7ac332bfde14657a6d9a8a70089753c",
      "9628e8cbd2ab4f0390c6cccd9794f738",
      "71200008f84a40fa80234f18c7a04059",
      "20d000bf49b44d64a62e88fe60d3aae3",
      "1c83301c2b3c405282a14d618404cd54",
      "85c70ca5aa244aa2be6c43c346fae671",
      "d6c833d71d294c979d43d3ae7eff3b69",
      "279ed3051daf44479b01d269dd2ba4df",
      "4ed7074b34d9442aa6862ac78430f848",
      "9d562bcd442d449cb4cf3e9c93ef6e51",
      "01387b47c33e4de1813336791660ce58",
      "a4e8e7f6806c4ecd927d56b3b1aaec94",
      "75a9c3ecb2334b208a984614827254cd",
      "f3451c4d19ab44a7be1d65326916171f",
      "a380e63035164907b9fcdac9d04eaa45",
      "3d87c7d0ed974327baf88c05f604795c",
      "2d5f03e8c103478bb959442b7f4892da",
      "ffc2ca2d97ff4104a87ab459e6435c00",
      "3e28f30e264a4f86ac4afaaaa0a96fd5",
      "20b52e7285f743dbac2710b5d5449146",
      "cde09e36719d4c38b2390cb11926dcdb",
      "6e694c62a7774fe8ab4500ae3961d7cb",
      "9e6a06ddd1f04a1d9bcf77521a55e300",
      "07a58283fcbf4db892a3a579aa6e26e7",
      "0e86fa0b84f44aafbd6c1ef7539cc1e6",
      "6b7c1549f933408ba421a90e31d3e95b",
      "0f36002ad1584d39919266ddcfec2a37",
      "150ca789098f4a77a66062133ed782b7",
      "786ae6a9411049a58d96b9c172a223b9",
      "c43f368e58984501aa1afb3b76585448",
      "629c4cf1913e433da1c1a505adb8dcc5",
      "ff546d2f62c84600821a55c45cf48207",
      "17695db88922447686a63dfde236958f"
     ]
    },
    "executionInfo": {
     "elapsed": 130006,
     "status": "ok",
     "timestamp": 1755203183668,
     "user": {
      "displayName": "ali naseri sadr",
      "userId": "10195290729978755163"
     },
     "user_tz": 240
    },
    "id": "j9wmLswslHIH",
    "outputId": "d9625a2d-03cc-4439-94c0-9475c52a7244"
   },
   "outputs": [
    {
     "data": {
      "text/plain": [
       "Batches:   0%|          | 0/1289 [00:00<?, ?it/s]"
      ]
     },
     "metadata": {},
     "output_type": "display_data"
    },
    {
     "name": "stdout",
     "output_type": "stream",
     "text": [
      "Epoch: 0 average training loss over all the batches: 5.927576607886529\n",
      "test loss: 0.4239993691444397\n"
     ]
    },
    {
     "data": {
      "text/plain": [
       "Batches:   0%|          | 0/1289 [00:00<?, ?it/s]"
      ]
     },
     "metadata": {},
     "output_type": "display_data"
    },
    {
     "data": {
      "text/plain": [
       "Batches:   0%|          | 0/1289 [00:00<?, ?it/s]"
      ]
     },
     "metadata": {},
     "output_type": "display_data"
    },
    {
     "data": {
      "text/plain": [
       "Batches:   0%|          | 0/1289 [00:00<?, ?it/s]"
      ]
     },
     "metadata": {},
     "output_type": "display_data"
    },
    {
     "data": {
      "text/plain": [
       "Batches:   0%|          | 0/1289 [00:00<?, ?it/s]"
      ]
     },
     "metadata": {},
     "output_type": "display_data"
    },
    {
     "data": {
      "text/plain": [
       "Batches:   0%|          | 0/1289 [00:00<?, ?it/s]"
      ]
     },
     "metadata": {},
     "output_type": "display_data"
    },
    {
     "name": "stdout",
     "output_type": "stream",
     "text": [
      "Epoch: 5 average training loss over all the batches: 0.23600158592450513\n",
      "test loss: 0.2648869454860687\n"
     ]
    },
    {
     "data": {
      "text/plain": [
       "Batches:   0%|          | 0/1289 [00:00<?, ?it/s]"
      ]
     },
     "metadata": {},
     "output_type": "display_data"
    },
    {
     "data": {
      "text/plain": [
       "Batches:   0%|          | 0/1289 [00:00<?, ?it/s]"
      ]
     },
     "metadata": {},
     "output_type": "display_data"
    },
    {
     "data": {
      "text/plain": [
       "Batches:   0%|          | 0/1289 [00:00<?, ?it/s]"
      ]
     },
     "metadata": {},
     "output_type": "display_data"
    },
    {
     "data": {
      "text/plain": [
       "Batches:   0%|          | 0/1289 [00:00<?, ?it/s]"
      ]
     },
     "metadata": {},
     "output_type": "display_data"
    },
    {
     "data": {
      "text/plain": [
       "Batches:   0%|          | 0/1289 [00:00<?, ?it/s]"
      ]
     },
     "metadata": {},
     "output_type": "display_data"
    },
    {
     "name": "stdout",
     "output_type": "stream",
     "text": [
      "Epoch: 10 average training loss over all the batches: 0.22778287606242997\n",
      "test loss: 0.2427450567483902\n"
     ]
    },
    {
     "data": {
      "text/plain": [
       "Batches:   0%|          | 0/1289 [00:00<?, ?it/s]"
      ]
     },
     "metadata": {},
     "output_type": "display_data"
    },
    {
     "data": {
      "text/plain": [
       "Batches:   0%|          | 0/1289 [00:00<?, ?it/s]"
      ]
     },
     "metadata": {},
     "output_type": "display_data"
    },
    {
     "data": {
      "text/plain": [
       "Batches:   0%|          | 0/1289 [00:00<?, ?it/s]"
      ]
     },
     "metadata": {},
     "output_type": "display_data"
    },
    {
     "data": {
      "text/plain": [
       "Batches:   0%|          | 0/1289 [00:00<?, ?it/s]"
      ]
     },
     "metadata": {},
     "output_type": "display_data"
    },
    {
     "data": {
      "text/plain": [
       "Batches:   0%|          | 0/1289 [00:00<?, ?it/s]"
      ]
     },
     "metadata": {},
     "output_type": "display_data"
    },
    {
     "name": "stdout",
     "output_type": "stream",
     "text": [
      "Epoch: 15 average training loss over all the batches: 0.2241960472150585\n",
      "test loss: 0.24485516548156738\n"
     ]
    },
    {
     "data": {
      "text/plain": [
       "Batches:   0%|          | 0/1289 [00:00<?, ?it/s]"
      ]
     },
     "metadata": {},
     "output_type": "display_data"
    },
    {
     "data": {
      "text/plain": [
       "Batches:   0%|          | 0/1289 [00:00<?, ?it/s]"
      ]
     },
     "metadata": {},
     "output_type": "display_data"
    },
    {
     "data": {
      "text/plain": [
       "Batches:   0%|          | 0/1289 [00:00<?, ?it/s]"
      ]
     },
     "metadata": {},
     "output_type": "display_data"
    },
    {
     "data": {
      "text/plain": [
       "Batches:   0%|          | 0/1289 [00:00<?, ?it/s]"
      ]
     },
     "metadata": {},
     "output_type": "display_data"
    },
    {
     "data": {
      "text/plain": [
       "Batches:   0%|          | 0/1289 [00:00<?, ?it/s]"
      ]
     },
     "metadata": {},
     "output_type": "display_data"
    },
    {
     "name": "stdout",
     "output_type": "stream",
     "text": [
      "Epoch: 20 average training loss over all the batches: 0.2217547926008467\n",
      "test loss: 0.23769500851631165\n"
     ]
    }
   ],
   "source": [
    "loss_fn = rmspe\n",
    "\n",
    "\n",
    "X_stock_test = X_stock_test.to(device)\n",
    "X_numeric_test = X_numeric_test.to(device)\n",
    "y_test = y_test.to(device)\n",
    "\n",
    "epochs = 21\n",
    "\n",
    "model.to(device)\n",
    "\n",
    "total_loss = 0\n",
    "\n",
    "for e in range(epochs):\n",
    "\n",
    "   model.train()\n",
    "\n",
    "   for batch in tqdm(loader, desc=\"Batches\", leave=True):\n",
    "\n",
    "        X_numeric_batch, X_stock_batch, y_batch = batch\n",
    "\n",
    "        optimizer.zero_grad()\n",
    "\n",
    "        X_numeric_batch = X_numeric_batch.to(device)\n",
    "        X_stock_batch = X_stock_batch.to(device)\n",
    "        y_batch = y_batch.to(device)\n",
    "\n",
    "        y_label = model(X_stock_batch, X_numeric_batch)\n",
    "\n",
    "        loss = loss_fn(y_batch, y_label.squeeze(dim=1))\n",
    "\n",
    "        loss.backward()\n",
    "\n",
    "        optimizer.step()\n",
    "\n",
    "\n",
    "        if e%5==0:\n",
    "          total_loss += loss.item()/num_batches\n",
    "          if torch.isnan(loss):\n",
    "              break\n",
    "\n",
    "   scheduler.step()\n",
    "\n",
    "   if e%5 == 0:\n",
    "     print(f'Epoch: {e} average training loss over all the batches: {total_loss}')\n",
    "     total_loss = 0\n",
    "     with torch.no_grad():\n",
    "            y_label_test = model(X_stock_test, X_numeric_test)\n",
    "            print(f'test loss: {loss_fn(y_test, y_label_test.squeeze(dim=1))}')"
   ]
  },
  {
   "cell_type": "markdown",
   "metadata": {
    "id": "bg6rHCjCn7A6"
   },
   "source": [
    "**Saving the model**"
   ]
  },
  {
   "cell_type": "code",
   "execution_count": null,
   "metadata": {
    "id": "ibLn0_Ipmoki"
   },
   "outputs": [],
   "source": [
    "torch.save(model.state_dict(), 'NN_model.pth')"
   ]
  },
  {
   "cell_type": "code",
   "execution_count": null,
   "metadata": {
    "id": "8FF3CM9Mj07_"
   },
   "outputs": [],
   "source": []
  }
 ],
 "metadata": {
  "colab": {
   "authorship_tag": "ABX9TyPLDujWkog0rbMr+EdPzfWA",
   "machine_shape": "hm",
   "provenance": []
  },
  "kernelspec": {
   "display_name": "Python 3 (ipykernel)",
   "language": "python",
   "name": "python3"
  },
  "language_info": {
   "codemirror_mode": {
    "name": "ipython",
    "version": 3
   },
   "file_extension": ".py",
   "mimetype": "text/x-python",
   "name": "python",
   "nbconvert_exporter": "python",
   "pygments_lexer": "ipython3",
   "version": "3.11.7"
  }
 },
 "nbformat": 4,
 "nbformat_minor": 4
}
